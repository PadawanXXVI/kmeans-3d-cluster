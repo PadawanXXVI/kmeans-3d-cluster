{
 "cells": [
  {
   "cell_type": "markdown",
   "id": "d208298a",
   "metadata": {},
   "source": [
    "# Notebook 01 — EDA e Limpeza do Dataset **Distribuição de Renda**\n",
    "\n",
    "**Objetivo:**  \n",
    "Explorar o dataset bruto (`data/raw/distribuicao-renda.csv`), realizar a análise exploratória de dados (EDA), tratar problemas de qualidade (nulos, outliers, tipos) e gerar um dataset limpo para uso posterior na clusterização.\n",
    "\n",
    "**Etapas:**\n",
    "1. Carregamento e inspeção inicial.  \n",
    "2. Estatísticas descritivas e distribuição das variáveis.  \n",
    "3. Identificação e tratamento de nulos.  \n",
    "4. Identificação e tratamento de outliers.  \n",
    "5. Salvamento de versão limpa em `data/processed/`.  \n"
   ]
  },
  {
   "cell_type": "code",
   "execution_count": 2,
   "id": "9fe7746b",
   "metadata": {},
   "outputs": [
    {
     "name": "stdout",
     "output_type": "stream",
     "text": [
      "Arquivo bruto: True C:\\Users\\renan\\OneDrive\\Desktop\\kmeans-3d-cluster\\data\\raw\\distribuicao-renda.csv\n"
     ]
    }
   ],
   "source": [
    "import pandas as pd\n",
    "import numpy as np\n",
    "import matplotlib.pyplot as plt\n",
    "import seaborn as sns\n",
    "from pathlib import Path\n",
    "\n",
    "# Configurações globais\n",
    "pd.set_option(\"display.max_columns\", None)\n",
    "pd.set_option(\"display.width\", 120)\n",
    "\n",
    "# Paths\n",
    "ROOT = Path.cwd().resolve().parents[0] if Path.cwd().name == \"notebooks\" else Path.cwd()\n",
    "DATA_RAW = ROOT / \"data\" / \"raw\"\n",
    "DATA_PROCESSED = ROOT / \"data\" / \"processed\"\n",
    "DATA_PROCESSED.mkdir(parents=True, exist_ok=True)\n",
    "\n",
    "RAW_FILE = DATA_RAW / \"distribuicao-renda.csv\"\n",
    "print(\"Arquivo bruto:\", RAW_FILE.exists(), RAW_FILE)\n"
   ]
  },
  {
   "cell_type": "markdown",
   "id": "74ff74dc",
   "metadata": {},
   "source": [
    "## 1. Importação de pacotes e configuração de paths\n"
   ]
  },
  {
   "cell_type": "markdown",
   "id": "8ea98a8f",
   "metadata": {},
   "source": [
    "## 2. Carregamento inicial do dataset bruto\n",
    "- Verificar número de linhas e colunas.  \n",
    "- Conferir nomes das variáveis.  \n",
    "- Observar amostra inicial.\n"
   ]
  },
  {
   "cell_type": "markdown",
   "id": "e1c01e63",
   "metadata": {},
   "source": [
    "## 3. Checagens iniciais\n",
    "- Tipos de dados de cada coluna.  \n",
    "- Presença de valores nulos.  \n",
    "- Presença de duplicados.  \n"
   ]
  },
  {
   "cell_type": "markdown",
   "id": "d966623d",
   "metadata": {},
   "source": [
    "## 4. Estatísticas descritivas\n",
    "- Medidas resumo para todas as variáveis numéricas.  \n",
    "- Distribuições (histogramas).  \n",
    "- Relações entre variáveis (correlação).  \n"
   ]
  },
  {
   "cell_type": "markdown",
   "id": "dac2a3c3",
   "metadata": {},
   "source": [
    "## 5. Tratamento de valores nulos\n",
    "- Estratégia adotada (remoção, imputação, preenchimento com média/mediana).  \n",
    "- Justificativa da decisão.  \n"
   ]
  },
  {
   "cell_type": "markdown",
   "id": "98116c01",
   "metadata": {},
   "source": [
    "## 6. Tratamento de outliers\n",
    "- Método escolhido (ex.: IQR, Z-score, winsorização).  \n",
    "- Justificativa da decisão.  \n"
   ]
  },
  {
   "cell_type": "markdown",
   "id": "510d7f62",
   "metadata": {},
   "source": [
    "## 7. Dataset limpo\n",
    "- Visualizar primeiras linhas após tratamento.  \n",
    "- Confirmar que não existem mais nulos.  \n",
    "- Confirmar coerência das distribuições.  \n"
   ]
  },
  {
   "cell_type": "markdown",
   "id": "3a3cb005",
   "metadata": {},
   "source": [
    "## 8. Salvamento do dataset limpo\n",
    "Salvar em `data/processed/distribuicao-renda-clean.csv` para uso posterior na clusterização.\n"
   ]
  },
  {
   "cell_type": "markdown",
   "id": "40fbd5cf",
   "metadata": {},
   "source": [
    "## 9. Próximos passos\n",
    "- Avaliar se a clusterização será feita:\n",
    "  - Com todos os dados disponíveis,  \n",
    "  - Com dois anos específicos,  \n",
    "  - Ou com apenas um ano.  \n",
    "\n",
    "Essa decisão será baseada na análise criteriosa do dataset limpo.\n"
   ]
  }
 ],
 "metadata": {
  "kernelspec": {
   "display_name": ".venv",
   "language": "python",
   "name": "python3"
  },
  "language_info": {
   "codemirror_mode": {
    "name": "ipython",
    "version": 3
   },
   "file_extension": ".py",
   "mimetype": "text/x-python",
   "name": "python",
   "nbconvert_exporter": "python",
   "pygments_lexer": "ipython3",
   "version": "3.13.3"
  }
 },
 "nbformat": 4,
 "nbformat_minor": 5
}
