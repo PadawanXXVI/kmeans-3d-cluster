{
 "cells": [
  {
   "cell_type": "markdown",
   "id": "bd90532e",
   "metadata": {},
   "source": [
    "# Clusterização por Centis (K-Means 3D) — Patrimônio vs Dívidas\n",
    "\n",
    "**Disciplina:** Aprendizado de Máquina Não Supervisionado  \n",
    "**Projeto:** Clusterização em 3D com K-Means  \n",
    "**Autor:** Anderson de Matos Guimarães  \n",
    "**Data:** 2025-08-31\n",
    "\n",
    "---\n",
    "\n",
    "## 📌 Objetivo\n",
    "Clusterizar **centis** (grupos de contribuintes) com base no **perfil patrimonial**:\n",
    "- **Bens e Direitos — Imóveis [R$ milhões]**\n",
    "- **Bens e Direitos — Financeiros [R$ milhões]**\n",
    "- **Dívidas e Ônus [R$ milhões]**\n",
    "\n",
    "Produzir:\n",
    "1. Visualização 3D dos clusters.  \n",
    "2. Perfil (médias) por cluster.  \n",
    "3. Artefatos exportados (CSVs e HTML do gráfico).\n"
   ]
  },
  {
   "cell_type": "markdown",
   "id": "36dda823",
   "metadata": {},
   "source": [
    "## 1) Entendimento do Negócio\n",
    "\n",
    "O dataset agrega **declarações de IRPF** por **centis de Renda Tributável Bruta (RTB)**.\n",
    "- **Centil** = divisão da população ordenada por RTB em **100 partes** com a mesma quantidade de contribuintes.\n",
    "- Unidade de análise: **(Ano-calendário, Ente Federativo, Centil)**.\n",
    "- As variáveis patrimoniais são **somatórios por centil** (em milhões de R$).\n",
    "\n",
    "**Perguntas de negócio:**\n",
    "- Existem **perfis patrimoniais** distintos entre os centis?\n",
    "- Como os **ativos (imóveis, financeiros)** se comparam às **dívidas** por cluster?\n",
    "- O perfil varia entre **anos** ou **entes federativos**?\n"
   ]
  },
  {
   "cell_type": "markdown",
   "id": "8019b934",
   "metadata": {},
   "source": [
    "## 2) Dicionário de Dados (dataset limpo)\n",
    "\n",
    "| Coluna | Descrição |\n",
    "|---|---|\n",
    "| **Ano-calendário** | Ano de referência das declarações. |\n",
    "| **Ente Federativo** | Unidade geográfica (BRASIL ou UF). |\n",
    "| **Centil** | Grupo da população (1 a 100), definido pela RTB. |\n",
    "| **Quantidade de Contribuintes** | Número de contribuintes no centil. |\n",
    "| **Bens e Direitos - Imóveis [R$ milhões]** | Total de imóveis declarados no centil. |\n",
    "| **Bens e Direitos - Financeiros [R$ milhões]** | Total de ativos financeiros declarados no centil. |\n",
    "| **Dívidas e Ônus [R$ milhões]** | Total de dívidas declaradas no centil. |\n",
    "\n",
    "> Fonte: Receita Federal — *Distribuição de Renda por Centis* (metadados oficiais).\n"
   ]
  },
  {
   "cell_type": "markdown",
   "id": "91a8a7d5",
   "metadata": {},
   "source": [
    "## 3) Setup\n"
   ]
  },
  {
   "cell_type": "code",
   "execution_count": 1,
   "id": "9e82867c",
   "metadata": {},
   "outputs": [
    {
     "name": "stdout",
     "output_type": "stream",
     "text": [
      "Python: 3.13.7 (tags/v3.13.7:bcee1c3, Aug 14 2025, 14:15:11) [MSC v.1944 64 bit (AMD64)]\n",
      "OS: Windows-11-10.0.26100-SP0\n"
     ]
    }
   ],
   "source": [
    "# Versões & Imports\n",
    "import sys, platform, os\n",
    "import numpy as np\n",
    "import pandas as pd\n",
    "\n",
    "from sklearn.preprocessing import StandardScaler\n",
    "from sklearn.cluster import KMeans\n",
    "from sklearn.metrics import silhouette_score\n",
    "\n",
    "import matplotlib.pyplot as plt  # (Elbow & silhouette)\n",
    "from mpl_toolkits.mplot3d import Axes3D  # noqa: F401 (needed for 3D projection)\n",
    "\n",
    "import plotly.express as px  # (3D interativo)\n",
    "\n",
    "print('Python:', sys.version)\n",
    "print('OS:', platform.platform())\n"
   ]
  },
  {
   "cell_type": "markdown",
   "id": "1188cbcd",
   "metadata": {},
   "source": [
    "## 4) Caminhos e Parâmetros\n"
   ]
  },
  {
   "cell_type": "code",
   "execution_count": 6,
   "id": "333877bf",
   "metadata": {},
   "outputs": [
    {
     "name": "stdout",
     "output_type": "stream",
     "text": [
      "DATA_PATH -> C:\\QuartoSemestre\\kmeans-3d-cluster\\data\\processed\\distribuicao-renda-clean-3vars.csv\n",
      "EXPORT_DIR -> C:\\QuartoSemestre\\kmeans-3d-cluster\\notebooks\\export\\02_clusterizacao\n"
     ]
    }
   ],
   "source": [
    "# === Caminhos e parâmetros ===\n",
    "import os\n",
    "from pathlib import Path\n",
    "\n",
    "# arquivo limpo (3 variáveis) no seu repo:\n",
    "DATA_PATH = Path(\"data/processed/distribuicao-renda-clean-3vars.csv\")\n",
    "\n",
    "if not DATA_PATH.exists():\n",
    "    # tentativas alternativas, caso o notebook esteja em outra pasta\n",
    "    candidates = [\n",
    "        Path.cwd() / \"data/processed/distribuicao-renda-clean-3vars.csv\",\n",
    "        Path.cwd().parent / \"data/processed/distribuicao-renda-clean-3vars.csv\",\n",
    "        Path(\"data\") / \"distribuicao-renda-clean-3vars.csv\",  # fallback se mover o arquivo p/ data/\n",
    "    ]\n",
    "    for c in candidates:\n",
    "        if c.exists():\n",
    "            DATA_PATH = c\n",
    "            break\n",
    "\n",
    "if not DATA_PATH.exists():\n",
    "    raise FileNotFoundError(\n",
    "        \"Não encontrei o CSV. Verifique se o arquivo está em \"\n",
    "        \"'data/processed/distribuicao-renda-clean-3vars.csv' ou ajuste DATA_PATH.\"\n",
    "    )\n",
    "\n",
    "EXPORT_DIR = \"export/02_clusterizacao\"\n",
    "os.makedirs(EXPORT_DIR, exist_ok=True)\n",
    "\n",
    "# Parâmetros da amostragem e do K-Means\n",
    "TARGET_N = 500\n",
    "RANDOM_STATE = 42\n",
    "K_RANGE = range(2, 9)\n",
    "DEFAULT_K = 4\n",
    "\n",
    "print(\"DATA_PATH ->\", DATA_PATH.resolve())\n",
    "print(\"EXPORT_DIR ->\", Path(EXPORT_DIR).resolve())\n",
    "\n"
   ]
  },
  {
   "cell_type": "markdown",
   "id": "0deba865",
   "metadata": {},
   "source": [
    "## 5) Carregamento e Visualização Inicial\n"
   ]
  },
  {
   "cell_type": "code",
   "execution_count": 7,
   "id": "0cf2fab0",
   "metadata": {},
   "outputs": [
    {
     "name": "stdout",
     "output_type": "stream",
     "text": [
      "Shape: (41867, 7)\n"
     ]
    },
    {
     "data": {
      "text/html": [
       "<div>\n",
       "<style scoped>\n",
       "    .dataframe tbody tr th:only-of-type {\n",
       "        vertical-align: middle;\n",
       "    }\n",
       "\n",
       "    .dataframe tbody tr th {\n",
       "        vertical-align: top;\n",
       "    }\n",
       "\n",
       "    .dataframe thead th {\n",
       "        text-align: right;\n",
       "    }\n",
       "</style>\n",
       "<table border=\"1\" class=\"dataframe\">\n",
       "  <thead>\n",
       "    <tr style=\"text-align: right;\">\n",
       "      <th></th>\n",
       "      <th>Ano-calendário</th>\n",
       "      <th>Ente Federativo</th>\n",
       "      <th>Centil</th>\n",
       "      <th>Quantidade de Contribuintes</th>\n",
       "      <th>Bens e Direitos - Imóveis [R$ milhões]</th>\n",
       "      <th>Bens e Direitos - Financeiros [R$ milhões]</th>\n",
       "      <th>Dívidas e Ônus [R$ milhões]</th>\n",
       "    </tr>\n",
       "  </thead>\n",
       "  <tbody>\n",
       "    <tr>\n",
       "      <th>0</th>\n",
       "      <td>2006</td>\n",
       "      <td>BRASIL</td>\n",
       "      <td>1</td>\n",
       "      <td>241.563</td>\n",
       "      <td>1864.5075</td>\n",
       "      <td>1576.3425</td>\n",
       "      <td>364.4525</td>\n",
       "    </tr>\n",
       "    <tr>\n",
       "      <th>1</th>\n",
       "      <td>2006</td>\n",
       "      <td>BRASIL</td>\n",
       "      <td>2</td>\n",
       "      <td>241.563</td>\n",
       "      <td>1864.5075</td>\n",
       "      <td>1576.3425</td>\n",
       "      <td>364.4525</td>\n",
       "    </tr>\n",
       "    <tr>\n",
       "      <th>2</th>\n",
       "      <td>2006</td>\n",
       "      <td>BRASIL</td>\n",
       "      <td>3</td>\n",
       "      <td>241.562</td>\n",
       "      <td>1864.5075</td>\n",
       "      <td>1576.3425</td>\n",
       "      <td>364.4525</td>\n",
       "    </tr>\n",
       "    <tr>\n",
       "      <th>3</th>\n",
       "      <td>2006</td>\n",
       "      <td>BRASIL</td>\n",
       "      <td>4</td>\n",
       "      <td>241.563</td>\n",
       "      <td>1864.5075</td>\n",
       "      <td>1576.3425</td>\n",
       "      <td>364.4525</td>\n",
       "    </tr>\n",
       "    <tr>\n",
       "      <th>4</th>\n",
       "      <td>2006</td>\n",
       "      <td>BRASIL</td>\n",
       "      <td>5</td>\n",
       "      <td>241.562</td>\n",
       "      <td>1864.5075</td>\n",
       "      <td>1576.3425</td>\n",
       "      <td>364.4525</td>\n",
       "    </tr>\n",
       "    <tr>\n",
       "      <th>5</th>\n",
       "      <td>2006</td>\n",
       "      <td>BRASIL</td>\n",
       "      <td>6</td>\n",
       "      <td>241.563</td>\n",
       "      <td>1864.5075</td>\n",
       "      <td>1576.3425</td>\n",
       "      <td>364.4525</td>\n",
       "    </tr>\n",
       "    <tr>\n",
       "      <th>6</th>\n",
       "      <td>2006</td>\n",
       "      <td>BRASIL</td>\n",
       "      <td>7</td>\n",
       "      <td>241.562</td>\n",
       "      <td>1864.5075</td>\n",
       "      <td>1576.3425</td>\n",
       "      <td>364.4525</td>\n",
       "    </tr>\n",
       "    <tr>\n",
       "      <th>7</th>\n",
       "      <td>2006</td>\n",
       "      <td>BRASIL</td>\n",
       "      <td>8</td>\n",
       "      <td>241.563</td>\n",
       "      <td>1864.5075</td>\n",
       "      <td>1576.3425</td>\n",
       "      <td>364.4525</td>\n",
       "    </tr>\n",
       "    <tr>\n",
       "      <th>8</th>\n",
       "      <td>2006</td>\n",
       "      <td>BRASIL</td>\n",
       "      <td>9</td>\n",
       "      <td>241.562</td>\n",
       "      <td>1864.5075</td>\n",
       "      <td>1576.3425</td>\n",
       "      <td>364.4525</td>\n",
       "    </tr>\n",
       "    <tr>\n",
       "      <th>9</th>\n",
       "      <td>2006</td>\n",
       "      <td>BRASIL</td>\n",
       "      <td>10</td>\n",
       "      <td>241.563</td>\n",
       "      <td>1864.5075</td>\n",
       "      <td>1576.3425</td>\n",
       "      <td>364.4525</td>\n",
       "    </tr>\n",
       "  </tbody>\n",
       "</table>\n",
       "</div>"
      ],
      "text/plain": [
       "   Ano-calendário Ente Federativo  Centil  Quantidade de Contribuintes  \\\n",
       "0            2006          BRASIL       1                      241.563   \n",
       "1            2006          BRASIL       2                      241.563   \n",
       "2            2006          BRASIL       3                      241.562   \n",
       "3            2006          BRASIL       4                      241.563   \n",
       "4            2006          BRASIL       5                      241.562   \n",
       "5            2006          BRASIL       6                      241.563   \n",
       "6            2006          BRASIL       7                      241.562   \n",
       "7            2006          BRASIL       8                      241.563   \n",
       "8            2006          BRASIL       9                      241.562   \n",
       "9            2006          BRASIL      10                      241.563   \n",
       "\n",
       "   Bens e Direitos - Imóveis [R$ milhões]  \\\n",
       "0                               1864.5075   \n",
       "1                               1864.5075   \n",
       "2                               1864.5075   \n",
       "3                               1864.5075   \n",
       "4                               1864.5075   \n",
       "5                               1864.5075   \n",
       "6                               1864.5075   \n",
       "7                               1864.5075   \n",
       "8                               1864.5075   \n",
       "9                               1864.5075   \n",
       "\n",
       "   Bens e Direitos - Financeiros [R$ milhões]  Dívidas e Ônus [R$ milhões]  \n",
       "0                                   1576.3425                     364.4525  \n",
       "1                                   1576.3425                     364.4525  \n",
       "2                                   1576.3425                     364.4525  \n",
       "3                                   1576.3425                     364.4525  \n",
       "4                                   1576.3425                     364.4525  \n",
       "5                                   1576.3425                     364.4525  \n",
       "6                                   1576.3425                     364.4525  \n",
       "7                                   1576.3425                     364.4525  \n",
       "8                                   1576.3425                     364.4525  \n",
       "9                                   1576.3425                     364.4525  "
      ]
     },
     "metadata": {},
     "output_type": "display_data"
    }
   ],
   "source": [
    "df = pd.read_csv(DATA_PATH)\n",
    "print('Shape:', df.shape)\n",
    "display(df.head(10))\n"
   ]
  },
  {
   "cell_type": "markdown",
   "id": "375297f3",
   "metadata": {},
   "source": [
    "## 6) Checagens Iniciais\n"
   ]
  },
  {
   "cell_type": "code",
   "execution_count": 8,
   "id": "b97fa01b",
   "metadata": {},
   "outputs": [
    {
     "data": {
      "text/plain": [
       "Ano-calendário                                  int64\n",
       "Ente Federativo                                object\n",
       "Centil                                          int64\n",
       "Quantidade de Contribuintes                   float64\n",
       "Bens e Direitos - Imóveis [R$ milhões]        float64\n",
       "Bens e Direitos - Financeiros [R$ milhões]    float64\n",
       "Dívidas e Ônus [R$ milhões]                   float64\n",
       "dtype: object"
      ]
     },
     "metadata": {},
     "output_type": "display_data"
    },
    {
     "name": "stdout",
     "output_type": "stream",
     "text": [
      "\n",
      "Nulos por coluna:\n"
     ]
    },
    {
     "data": {
      "text/plain": [
       "Ano-calendário                                0\n",
       "Ente Federativo                               0\n",
       "Centil                                        0\n",
       "Quantidade de Contribuintes                   0\n",
       "Bens e Direitos - Imóveis [R$ milhões]        0\n",
       "Bens e Direitos - Financeiros [R$ milhões]    0\n",
       "Dívidas e Ônus [R$ milhões]                   0\n",
       "dtype: int64"
      ]
     },
     "metadata": {},
     "output_type": "display_data"
    },
    {
     "name": "stdout",
     "output_type": "stream",
     "text": [
      "\n",
      "Anos únicos: [np.int64(2006), np.int64(2007), np.int64(2008), np.int64(2009), np.int64(2010), np.int64(2011), np.int64(2012), np.int64(2013), np.int64(2014), np.int64(2015)] ...\n",
      "Qtd anos: 15\n",
      "\n",
      "Entes federativos (amostra): ['BRASIL' 'AC' 'AL' 'AM' 'AP' 'BA' 'CE' 'DF' 'ES' 'GO']\n",
      "Qtd entes: 28\n",
      "\n",
      "Centis (min..max): 1 .. 100\n",
      "Qtd centis distintos: 100\n",
      "\n",
      "Duplicados por (ano, ente, centil): 0\n"
     ]
    }
   ],
   "source": [
    "# Tipos, nulos, intervalos\n",
    "display(df.dtypes)\n",
    "print('\\nNulos por coluna:')\n",
    "display(df.isna().sum())\n",
    "\n",
    "print('\\nAnos únicos:', sorted(df['Ano-calendário'].unique())[:10], '...')\n",
    "print('Qtd anos:', df['Ano-calendário'].nunique())\n",
    "\n",
    "print('\\nEntes federativos (amostra):', df['Ente Federativo'].unique()[:10])\n",
    "print('Qtd entes:', df['Ente Federativo'].nunique())\n",
    "\n",
    "print('\\nCentis (min..max):', df['Centil'].min(), '..', df['Centil'].max())\n",
    "print('Qtd centis distintos:', df['Centil'].nunique())\n",
    "\n",
    "# Chave primária lógica\n",
    "dups = df.duplicated(subset=['Ano-calendário','Ente Federativo','Centil']).sum()\n",
    "print('\\nDuplicados por (ano, ente, centil):', dups)\n"
   ]
  },
  {
   "cell_type": "markdown",
   "id": "3c124f01",
   "metadata": {},
   "source": [
    "## 7) Estratégia para ~500 entradas\n",
    "\n",
    "Opções comuns:\n",
    "1. **Amostra aleatória** (representativa para testes rápidos).\n",
    "2. **Filtro por intervalo de anos** (ex.: 2006–2010) para manter consistência temporal.\n",
    "3. **Estratificação** (mesmo número por ente federativo/ano).\n",
    "\n",
    "Abaixo seguimos a **amostragem aleatória** com `random_state` fixo para reprodutibilidade.\n"
   ]
  },
  {
   "cell_type": "markdown",
   "id": "14c9d369",
   "metadata": {},
   "source": [
    "## 8) Construção dos DataFrames de Clusterização\n"
   ]
  },
  {
   "cell_type": "code",
   "execution_count": 9,
   "id": "06811bc7",
   "metadata": {},
   "outputs": [
    {
     "name": "stdout",
     "output_type": "stream",
     "text": [
      "df_cluster_full: (41867, 7)\n",
      "df_cluster_500: (500, 7)\n"
     ]
    },
    {
     "data": {
      "text/html": [
       "<div>\n",
       "<style scoped>\n",
       "    .dataframe tbody tr th:only-of-type {\n",
       "        vertical-align: middle;\n",
       "    }\n",
       "\n",
       "    .dataframe tbody tr th {\n",
       "        vertical-align: top;\n",
       "    }\n",
       "\n",
       "    .dataframe thead th {\n",
       "        text-align: right;\n",
       "    }\n",
       "</style>\n",
       "<table border=\"1\" class=\"dataframe\">\n",
       "  <thead>\n",
       "    <tr style=\"text-align: right;\">\n",
       "      <th></th>\n",
       "      <th>Ano-calendário</th>\n",
       "      <th>Ente Federativo</th>\n",
       "      <th>Centil</th>\n",
       "      <th>Quantidade de Contribuintes</th>\n",
       "      <th>Bens e Direitos - Imóveis [R$ milhões]</th>\n",
       "      <th>Bens e Direitos - Financeiros [R$ milhões]</th>\n",
       "      <th>Dívidas e Ônus [R$ milhões]</th>\n",
       "    </tr>\n",
       "  </thead>\n",
       "  <tbody>\n",
       "    <tr>\n",
       "      <th>0</th>\n",
       "      <td>2012</td>\n",
       "      <td>MT</td>\n",
       "      <td>69</td>\n",
       "      <td>3.745</td>\n",
       "      <td>183.9100</td>\n",
       "      <td>154.0900</td>\n",
       "      <td>53.2400</td>\n",
       "    </tr>\n",
       "    <tr>\n",
       "      <th>1</th>\n",
       "      <td>2018</td>\n",
       "      <td>SP</td>\n",
       "      <td>84</td>\n",
       "      <td>97.711</td>\n",
       "      <td>1864.5075</td>\n",
       "      <td>1576.3425</td>\n",
       "      <td>364.4525</td>\n",
       "    </tr>\n",
       "    <tr>\n",
       "      <th>2</th>\n",
       "      <td>2006</td>\n",
       "      <td>PE</td>\n",
       "      <td>78</td>\n",
       "      <td>5.563</td>\n",
       "      <td>135.6800</td>\n",
       "      <td>126.6700</td>\n",
       "      <td>23.1400</td>\n",
       "    </tr>\n",
       "    <tr>\n",
       "      <th>3</th>\n",
       "      <td>2013</td>\n",
       "      <td>TO</td>\n",
       "      <td>86</td>\n",
       "      <td>1.357</td>\n",
       "      <td>104.5300</td>\n",
       "      <td>689.7300</td>\n",
       "      <td>35.0800</td>\n",
       "    </tr>\n",
       "    <tr>\n",
       "      <th>4</th>\n",
       "      <td>2010</td>\n",
       "      <td>PI</td>\n",
       "      <td>54</td>\n",
       "      <td>1.452</td>\n",
       "      <td>10.2000</td>\n",
       "      <td>8.6200</td>\n",
       "      <td>3.4300</td>\n",
       "    </tr>\n",
       "  </tbody>\n",
       "</table>\n",
       "</div>"
      ],
      "text/plain": [
       "   Ano-calendário Ente Federativo  Centil  Quantidade de Contribuintes  \\\n",
       "0            2012              MT      69                        3.745   \n",
       "1            2018              SP      84                       97.711   \n",
       "2            2006              PE      78                        5.563   \n",
       "3            2013              TO      86                        1.357   \n",
       "4            2010              PI      54                        1.452   \n",
       "\n",
       "   Bens e Direitos - Imóveis [R$ milhões]  \\\n",
       "0                                183.9100   \n",
       "1                               1864.5075   \n",
       "2                                135.6800   \n",
       "3                                104.5300   \n",
       "4                                 10.2000   \n",
       "\n",
       "   Bens e Direitos - Financeiros [R$ milhões]  Dívidas e Ônus [R$ milhões]  \n",
       "0                                    154.0900                      53.2400  \n",
       "1                                   1576.3425                     364.4525  \n",
       "2                                    126.6700                      23.1400  \n",
       "3                                    689.7300                      35.0800  \n",
       "4                                      8.6200                       3.4300  "
      ]
     },
     "metadata": {},
     "output_type": "display_data"
    }
   ],
   "source": [
    "# Seleção de variáveis de clusterização (3 variáveis escolhidas)\n",
    "VARS = [\n",
    "    'Bens e Direitos - Imóveis [R$ milhões]',\n",
    "    'Bens e Direitos - Financeiros [R$ milhões]',\n",
    "    'Dívidas e Ônus [R$ milhões]'\n",
    "]\n",
    "\n",
    "meta_cols = ['Ano-calendário', 'Ente Federativo', 'Centil', 'Quantidade de Contribuintes']\n",
    "\n",
    "df_cluster_full = df[meta_cols + VARS].copy()\n",
    "\n",
    "# Amostra ~500\n",
    "frac = min(1.0, TARGET_N / len(df_cluster_full))\n",
    "df_cluster_500 = df_cluster_full.sample(frac=frac, random_state=RANDOM_STATE).reset_index(drop=True)\n",
    "\n",
    "print('df_cluster_full:', df_cluster_full.shape)\n",
    "print('df_cluster_500:', df_cluster_500.shape)\n",
    "\n",
    "display(df_cluster_500.head())\n"
   ]
  },
  {
   "cell_type": "markdown",
   "id": "028db6b8",
   "metadata": {},
   "source": [
    "## 9) Padronização (StandardScaler)\n"
   ]
  },
  {
   "cell_type": "code",
   "execution_count": 10,
   "id": "e5cb27db",
   "metadata": {},
   "outputs": [
    {
     "name": "stdout",
     "output_type": "stream",
     "text": [
      "X_full shape: (41867, 3)\n",
      "X_500  shape: (500, 3)\n"
     ]
    }
   ],
   "source": [
    "scaler = StandardScaler()\n",
    "\n",
    "X_full = scaler.fit_transform(df_cluster_full[VARS])\n",
    "X_500  = scaler.fit_transform(df_cluster_500[VARS])\n",
    "\n",
    "print('X_full shape:', X_full.shape)\n",
    "print('X_500  shape:', X_500.shape)\n"
   ]
  },
  {
   "cell_type": "markdown",
   "id": "5a381ca8",
   "metadata": {},
   "source": [
    "## 10) Seleção de *k* (Elbow + Silhouette)\n"
   ]
  },
  {
   "cell_type": "code",
   "execution_count": 11,
   "id": "adcf0b6e",
   "metadata": {},
   "outputs": [
    {
     "data": {
      "image/png": "[encoded data removed]",
      "text/plain": [
       "<Figure size 640x480 with 1 Axes>"
      ]
     },
     "metadata": {},
     "output_type": "display_data"
    },
    {
     "data": {
      "image/png": "[encoded data removed]",
      "text/plain": [
       "<Figure size 640x480 with 1 Axes>"
      ]
     },
     "metadata": {},
     "output_type": "display_data"
    },
    {
     "name": "stdout",
     "output_type": "stream",
     "text": [
      "Melhor k por Silhouette (amostra): 2\n"
     ]
    }
   ],
   "source": [
    "inertias_500 = []\n",
    "sil_500 = []\n",
    "\n",
    "for k in K_RANGE:\n",
    "    km = KMeans(n_clusters=k, n_init='auto', random_state=RANDOM_STATE)\n",
    "    labels = km.fit_predict(X_500)\n",
    "    inertias_500.append(km.inertia_)\n",
    "    sil_500.append(silhouette_score(X_500, labels))\n",
    "\n",
    "# Elbow\n",
    "plt.figure()\n",
    "plt.plot(list(K_RANGE), inertias_500, marker='o')\n",
    "plt.title('Método do Cotovelo (amostra ~500)')\n",
    "plt.xlabel('k')\n",
    "plt.ylabel('Inércia (SSE)')\n",
    "plt.grid(True)\n",
    "plt.show()\n",
    "\n",
    "# Silhouette\n",
    "plt.figure()\n",
    "plt.plot(list(K_RANGE), sil_500, marker='o')\n",
    "plt.title('Silhouette (amostra ~500)')\n",
    "plt.xlabel('k')\n",
    "plt.ylabel('Média do coeficiente de Silhouette')\n",
    "plt.grid(True)\n",
    "plt.show()\n",
    "\n",
    "best_k_sil = list(K_RANGE)[int(np.argmax(sil_500))]\n",
    "print('Melhor k por Silhouette (amostra):', best_k_sil)\n"
   ]
  },
  {
   "cell_type": "markdown",
   "id": "3eceb313",
   "metadata": {},
   "source": [
    "## 11) Treino do K-Means e Rotulagem\n"
   ]
  },
  {
   "cell_type": "code",
   "execution_count": 12,
   "id": "f3415ca2",
   "metadata": {},
   "outputs": [
    {
     "data": {
      "text/html": [
       "<div>\n",
       "<style scoped>\n",
       "    .dataframe tbody tr th:only-of-type {\n",
       "        vertical-align: middle;\n",
       "    }\n",
       "\n",
       "    .dataframe tbody tr th {\n",
       "        vertical-align: top;\n",
       "    }\n",
       "\n",
       "    .dataframe thead th {\n",
       "        text-align: right;\n",
       "    }\n",
       "</style>\n",
       "<table border=\"1\" class=\"dataframe\">\n",
       "  <thead>\n",
       "    <tr style=\"text-align: right;\">\n",
       "      <th></th>\n",
       "      <th>Ano-calendário</th>\n",
       "      <th>Ente Federativo</th>\n",
       "      <th>Centil</th>\n",
       "      <th>Quantidade de Contribuintes</th>\n",
       "      <th>Bens e Direitos - Imóveis [R$ milhões]</th>\n",
       "      <th>Bens e Direitos - Financeiros [R$ milhões]</th>\n",
       "      <th>Dívidas e Ônus [R$ milhões]</th>\n",
       "      <th>cluster</th>\n",
       "    </tr>\n",
       "  </thead>\n",
       "  <tbody>\n",
       "    <tr>\n",
       "      <th>0</th>\n",
       "      <td>2012</td>\n",
       "      <td>MT</td>\n",
       "      <td>69</td>\n",
       "      <td>3.745</td>\n",
       "      <td>183.9100</td>\n",
       "      <td>154.0900</td>\n",
       "      <td>53.2400</td>\n",
       "      <td>0</td>\n",
       "    </tr>\n",
       "    <tr>\n",
       "      <th>1</th>\n",
       "      <td>2018</td>\n",
       "      <td>SP</td>\n",
       "      <td>84</td>\n",
       "      <td>97.711</td>\n",
       "      <td>1864.5075</td>\n",
       "      <td>1576.3425</td>\n",
       "      <td>364.4525</td>\n",
       "      <td>1</td>\n",
       "    </tr>\n",
       "    <tr>\n",
       "      <th>2</th>\n",
       "      <td>2006</td>\n",
       "      <td>PE</td>\n",
       "      <td>78</td>\n",
       "      <td>5.563</td>\n",
       "      <td>135.6800</td>\n",
       "      <td>126.6700</td>\n",
       "      <td>23.1400</td>\n",
       "      <td>0</td>\n",
       "    </tr>\n",
       "    <tr>\n",
       "      <th>3</th>\n",
       "      <td>2013</td>\n",
       "      <td>TO</td>\n",
       "      <td>86</td>\n",
       "      <td>1.357</td>\n",
       "      <td>104.5300</td>\n",
       "      <td>689.7300</td>\n",
       "      <td>35.0800</td>\n",
       "      <td>0</td>\n",
       "    </tr>\n",
       "    <tr>\n",
       "      <th>4</th>\n",
       "      <td>2010</td>\n",
       "      <td>PI</td>\n",
       "      <td>54</td>\n",
       "      <td>1.452</td>\n",
       "      <td>10.2000</td>\n",
       "      <td>8.6200</td>\n",
       "      <td>3.4300</td>\n",
       "      <td>0</td>\n",
       "    </tr>\n",
       "  </tbody>\n",
       "</table>\n",
       "</div>"
      ],
      "text/plain": [
       "   Ano-calendário Ente Federativo  Centil  Quantidade de Contribuintes  \\\n",
       "0            2012              MT      69                        3.745   \n",
       "1            2018              SP      84                       97.711   \n",
       "2            2006              PE      78                        5.563   \n",
       "3            2013              TO      86                        1.357   \n",
       "4            2010              PI      54                        1.452   \n",
       "\n",
       "   Bens e Direitos - Imóveis [R$ milhões]  \\\n",
       "0                                183.9100   \n",
       "1                               1864.5075   \n",
       "2                                135.6800   \n",
       "3                                104.5300   \n",
       "4                                 10.2000   \n",
       "\n",
       "   Bens e Direitos - Financeiros [R$ milhões]  Dívidas e Ônus [R$ milhões]  \\\n",
       "0                                    154.0900                      53.2400   \n",
       "1                                   1576.3425                     364.4525   \n",
       "2                                    126.6700                      23.1400   \n",
       "3                                    689.7300                      35.0800   \n",
       "4                                      8.6200                       3.4300   \n",
       "\n",
       "   cluster  \n",
       "0        0  \n",
       "1        1  \n",
       "2        0  \n",
       "3        0  \n",
       "4        0  "
      ]
     },
     "metadata": {},
     "output_type": "display_data"
    },
    {
     "data": {
      "text/html": [
       "<div>\n",
       "<style scoped>\n",
       "    .dataframe tbody tr th:only-of-type {\n",
       "        vertical-align: middle;\n",
       "    }\n",
       "\n",
       "    .dataframe tbody tr th {\n",
       "        vertical-align: top;\n",
       "    }\n",
       "\n",
       "    .dataframe thead th {\n",
       "        text-align: right;\n",
       "    }\n",
       "</style>\n",
       "<table border=\"1\" class=\"dataframe\">\n",
       "  <thead>\n",
       "    <tr style=\"text-align: right;\">\n",
       "      <th></th>\n",
       "      <th>Bens e Direitos - Imóveis [R$ milhões]</th>\n",
       "      <th>Bens e Direitos - Financeiros [R$ milhões]</th>\n",
       "      <th>Dívidas e Ônus [R$ milhões]</th>\n",
       "    </tr>\n",
       "    <tr>\n",
       "      <th>cluster</th>\n",
       "      <th></th>\n",
       "      <th></th>\n",
       "      <th></th>\n",
       "    </tr>\n",
       "  </thead>\n",
       "  <tbody>\n",
       "    <tr>\n",
       "      <th>0</th>\n",
       "      <td>189.347455</td>\n",
       "      <td>159.815974</td>\n",
       "      <td>35.224649</td>\n",
       "    </tr>\n",
       "    <tr>\n",
       "      <th>1</th>\n",
       "      <td>1651.494565</td>\n",
       "      <td>1412.598457</td>\n",
       "      <td>318.207261</td>\n",
       "    </tr>\n",
       "  </tbody>\n",
       "</table>\n",
       "</div>"
      ],
      "text/plain": [
       "         Bens e Direitos - Imóveis [R$ milhões]  \\\n",
       "cluster                                           \n",
       "0                                    189.347455   \n",
       "1                                   1651.494565   \n",
       "\n",
       "         Bens e Direitos - Financeiros [R$ milhões]  \\\n",
       "cluster                                               \n",
       "0                                        159.815974   \n",
       "1                                       1412.598457   \n",
       "\n",
       "         Dívidas e Ônus [R$ milhões]  \n",
       "cluster                               \n",
       "0                          35.224649  \n",
       "1                         318.207261  "
      ]
     },
     "metadata": {},
     "output_type": "display_data"
    }
   ],
   "source": [
    "# Escolha de k: use `best_k_sil` ou fixe DEFAULT_K\n",
    "k = best_k_sil  # ou: k = DEFAULT_K\n",
    "\n",
    "kmeans_500 = KMeans(n_clusters=k, n_init='auto', random_state=RANDOM_STATE)\n",
    "df_cluster_500['cluster'] = kmeans_500.fit_predict(X_500)\n",
    "\n",
    "centroids_scaled = kmeans_500.cluster_centers_\n",
    "# Reverter para a escala original\n",
    "centroids_original = scaler.inverse_transform(centroids_scaled)\n",
    "centroids_df = pd.DataFrame(centroids_original, columns=VARS)\n",
    "centroids_df.index.name = 'cluster'\n",
    "\n",
    "display(df_cluster_500.head())\n",
    "display(centroids_df)\n"
   ]
  },
  {
   "cell_type": "markdown",
   "id": "baef11e8",
   "metadata": {},
   "source": [
    "## 12) Visualização 3D Interativa\n"
   ]
  },
  {
   "cell_type": "code",
   "execution_count": 13,
   "id": "3007a708",
   "metadata": {},
   "outputs": [
    {
     "data": {
      "application/vnd.plotly.v1+json": {
       "config": {
        "plotlyServerURL": "https://plot.ly"
       },
       "data": [
        {
         "customdata": [
          [
           2012,
           "MT",
           69,
           3.745
          ],
          [
           2018,
           "SP",
           84,
           97.711
          ],
          [
           2006,
           "PE",
           78,
           5.563
          ],
          [
           2013,
           "TO",
           86,
           1.357
          ],
          [
           2010,
           "PI",
           54,
           1.452
          ],
          [
           2009,
           "SE",
           51,
           1.542
          ],
          [
           2008,
           "AM",
           66,
           2.607
          ],
          [
           2011,
           "MT",
           79,
           3.439
          ],
          [
           2008,
           "AM",
           32,
           2.607
          ],
          [
           2012,
           "MG",
           42,
           23.471
          ],
          [
           2014,
           "PI",
           89,
           2.091
          ],
          [
           2008,
           "MS",
           30,
           2.903
          ],
          [
           2006,
           "RR",
           76,
           331
          ],
          [
           2016,
           "CE",
           48,
           6.039
          ],
          [
           2014,
           "MT",
           12,
           4.332
          ],
          [
           2019,
           "MS",
           19,
           4.278
          ],
          [
           2018,
           "DF",
           55,
           7.538
          ],
          [
           2013,
           "SP",
           17,
           84.848
          ],
          [
           2018,
           "PR",
           13,
           19.65
          ],
          [
           2006,
           "PE",
           39,
           5.563
          ],
          [
           2009,
           "SP",
           52,
           77.582
          ],
          [
           2014,
           "RR",
           60,
           545
          ],
          [
           2019,
           "BRASIL",
           61,
           304.985
          ],
          [
           2008,
           "MT",
           62,
           3.152
          ],
          [
           2008,
           "TO",
           27,
           1.151
          ],
          [
           2010,
           "BRASIL",
           84,
           239.63
          ],
          [
           2012,
           "MA",
           2,
           3.129
          ],
          [
           2013,
           "AC",
           21,
           569
          ],
          [
           2015,
           "MS",
           49,
           3.786
          ],
          [
           2012,
           "SC",
           47,
           9.659
          ],
          [
           2013,
           "RR",
           54,
           507
          ],
          [
           2017,
           "RO",
           44,
           1.974
          ],
          [
           2011,
           "ES",
           1,
           4.386
          ],
          [
           2020,
           "MT",
           74,
           5.715
          ],
          [
           2011,
           "RN",
           82,
           2.397
          ],
          [
           2006,
           "CE",
           65,
           3.818
          ],
          [
           2019,
           "RO",
           67,
           2.083
          ],
          [
           2010,
           "SC",
           10,
           8.689
          ],
          [
           2010,
           "BA",
           11,
           8.746
          ],
          [
           2011,
           "RJ",
           38,
           24.823
          ],
          [
           2006,
           "PB",
           78,
           1.636
          ],
          [
           2009,
           "DF",
           53,
           5.205
          ],
          [
           2009,
           "BA",
           87,
           8.627
          ],
          [
           2014,
           "RO",
           45,
           1.901
          ],
          [
           2013,
           "SP",
           21,
           84.848
          ],
          [
           2015,
           "PA",
           52,
           5.452
          ],
          [
           2011,
           "CE",
           27,
           4.72
          ],
          [
           2019,
           "AL",
           9,
           2.373
          ],
          [
           2019,
           "MT",
           96,
           5.405
          ],
          [
           2007,
           "DF",
           22,
           4.97
          ],
          [
           2011,
           "AL",
           62,
           1.724
          ],
          [
           2015,
           "BRASIL",
           85,
           282.846
          ],
          [
           2010,
           "BA",
           60,
           8.745
          ],
          [
           2018,
           "GO",
           97,
           9.659
          ],
          [
           2011,
           "AP",
           10,
           457
          ],
          [
           2017,
           "ES",
           33,
           5.344
          ],
          [
           2020,
           "RO",
           41,
           2.172
          ],
          [
           2013,
           "MG",
           7,
           24.331
          ],
          [
           2012,
           "PR",
           94,
           15.721
          ],
          [
           2007,
           "PA",
           87,
           3.405
          ],
          [
           2011,
           "TO",
           89,
           1.254
          ],
          [
           2013,
           "AL",
           19,
           1.943
          ],
          [
           2013,
           "RO",
           66,
           1.806
          ],
          [
           2017,
           "RS",
           10,
           20.567
          ],
          [
           2018,
           "SC",
           14,
           13.5
          ],
          [
           2015,
           "PI",
           16,
           2.158
          ],
          [
           2016,
           "PR",
           65,
           18.074
          ],
          [
           2016,
           "MG",
           64,
           26.442
          ],
          [
           2006,
           "PB",
           65,
           1.636
          ],
          [
           2012,
           "CE",
           88,
           5.086
          ],
          [
           2019,
           "CE",
           39,
           6.79
          ],
          [
           2008,
           "PR",
           30,
           16.045
          ],
          [
           2009,
           "GO",
           34,
           6.635
          ],
          [
           2007,
           "PR",
           18,
           15.707
          ],
          [
           2013,
           "BA",
           72,
           10.375
          ],
          [
           2018,
           "TO",
           41,
           1.636
          ],
          [
           2007,
           "SE",
           86,
           1.473
          ],
          [
           2007,
           "CE",
           63,
           4.165
          ],
          [
           2010,
           "RR",
           85,
           439
          ],
          [
           2014,
           "RR",
           12,
           545
          ],
          [
           2007,
           "SP",
           74,
           79.14
          ],
          [
           2011,
           "RR",
           18,
           456
          ],
          [
           2010,
           "SE",
           83,
           1.572
          ],
          [
           2016,
           "PE",
           4,
           7.608
          ],
          [
           2014,
           "SP",
           68,
           87.743
          ],
          [
           2009,
           "RR",
           15,
           443
          ],
          [
           2007,
           "RR",
           54,
           401
          ],
          [
           2018,
           "RJ",
           80,
           30.533
          ],
          [
           2015,
           "MG",
           60,
           25.682
          ],
          [
           2006,
           "AP",
           73,
           254
          ],
          [
           2015,
           "MS",
           88,
           3.786
          ],
          [
           2017,
           "MS",
           79,
           4.074
          ],
          [
           2018,
           "RN",
           16,
           3.199
          ],
          [
           2018,
           "SC",
           64,
           13.5
          ],
          [
           2006,
           "CE",
           63,
           3.819
          ],
          [
           2013,
           "BRASIL",
           67,
           270.244
          ],
          [
           2010,
           "MS",
           10,
           2.891
          ],
          [
           2006,
           "CE",
           33,
           3.818
          ],
          [
           2009,
           "AL",
           65,
           1.608
          ],
          [
           2009,
           "GO",
           23,
           6.635
          ],
          [
           2011,
           "AC",
           39,
           363
          ],
          [
           2015,
           "AM",
           89,
           3.16
          ],
          [
           2017,
           "MG",
           61,
           27.319
          ],
          [
           2010,
           "PB",
           42,
           2.167
          ],
          [
           2013,
           "AC",
           28,
           569
          ],
          [
           2010,
           "MG",
           73,
           21.172
          ],
          [
           2009,
           "RO",
           39,
           1.272
          ],
          [
           2010,
           "CE",
           29,
           4.334
          ],
          [
           2011,
           "ES",
           67,
           4.386
          ],
          [
           2019,
           "RR",
           83,
           632
          ],
          [
           2016,
           "AM",
           68,
           3.138
          ],
          [
           2011,
           "CE",
           26,
           4.72
          ],
          [
           2014,
           "DF",
           37,
           6.559
          ],
          [
           2009,
           "SC",
           31,
           9.02
          ],
          [
           2011,
           "MS",
           35,
           3.076
          ],
          [
           2013,
           "SC",
           21,
           10.175
          ],
          [
           2009,
           "RR",
           22,
           443
          ],
          [
           2007,
           "GO",
           28,
           6.814
          ],
          [
           2014,
           "DF",
           41,
           6.559
          ],
          [
           2019,
           "PE",
           97,
           8.019
          ],
          [
           2017,
           "PI",
           72,
           2.312
          ],
          [
           2014,
           "RR",
           96,
           545
          ],
          [
           2011,
           "AP",
           47,
           457
          ],
          [
           2006,
           "CE",
           32,
           3.819
          ],
          [
           2012,
           "TO",
           59,
           1.297
          ],
          [
           2018,
           "MG",
           51,
           28.551
          ],
          [
           2007,
           "MG",
           73,
           22.454
          ],
          [
           2007,
           "SC",
           66,
           10.014
          ],
          [
           2018,
           "RO",
           81,
           2.086
          ],
          [
           2020,
           "TO",
           16,
           1.688
          ],
          [
           2016,
           "DF",
           38,
           6.854
          ],
          [
           2012,
           "MA",
           15,
           3.128
          ],
          [
           2006,
           "RJ",
           8,
           22.391
          ],
          [
           2019,
           "MT",
           49,
           5.405
          ],
          [
           2015,
           "RN",
           32,
           2.932
          ],
          [
           2016,
           "AC",
           37,
           657
          ],
          [
           2010,
           "MG",
           83,
           21.172
          ],
          [
           2017,
           "PB",
           25,
           2.964
          ],
          [
           2010,
           "AM",
           69,
           2.583
          ],
          [
           2006,
           "TO",
           47,
           969
          ],
          [
           2013,
           "PE",
           95,
           7.262
          ],
          [
           2006,
           "SC",
           84,
           9.031
          ],
          [
           2018,
           "SP",
           95,
           97.71
          ],
          [
           2019,
           "PE",
           73,
           8.019
          ],
          [
           2015,
           "PR",
           38,
           17.431
          ],
          [
           2006,
           "DF",
           37,
           4.564
          ],
          [
           2018,
           "MG",
           27,
           28.551
          ],
          [
           2014,
           "TO",
           91,
           1.421
          ],
          [
           2009,
           "SC",
           20,
           9.02
          ],
          [
           2019,
           "RR",
           92,
           632
          ],
          [
           2011,
           "RO",
           11,
           1.608
          ],
          [
           2014,
           "GO",
           25,
           8.437
          ],
          [
           2008,
           "SC",
           42,
           10.249
          ],
          [
           2019,
           "DF",
           43,
           7.502
          ],
          [
           2010,
           "RN",
           83,
           2.289
          ],
          [
           2014,
           "DF",
           40,
           6.558
          ],
          [
           2012,
           "AL",
           63,
           1.824
          ],
          [
           2007,
           "AL",
           68,
           1.579
          ],
          [
           2006,
           "AL",
           17,
           1.431
          ],
          [
           2011,
           "CE",
           78,
           4.72
          ],
          [
           2014,
           "RJ",
           32,
           28.662
          ],
          [
           2013,
           "MS",
           52,
           3.508
          ],
          [
           2013,
           "AM",
           13,
           3.088
          ],
          [
           2015,
           "TO",
           61,
           1.454
          ],
          [
           2014,
           "RO",
           52,
           1.901
          ],
          [
           2011,
           "PE",
           51,
           6.53
          ],
          [
           2020,
           "PI",
           96,
           2.524
          ],
          [
           2018,
           "PA",
           24,
           6.147
          ],
          [
           2006,
           "RS",
           84,
           18.034
          ],
          [
           2019,
           "PR",
           66,
           19.811
          ],
          [
           2009,
           "RR",
           3,
           443
          ],
          [
           2011,
           "CE",
           8,
           4.721
          ],
          [
           2009,
           "GO",
           35,
           6.634
          ],
          [
           2020,
           "PI",
           1,
           2.525
          ],
          [
           2017,
           "ES",
           77,
           5.345
          ],
          [
           2019,
           "PR",
           18,
           19.812
          ],
          [
           2008,
           "BA",
           16,
           8.835
          ],
          [
           2020,
           "CE",
           74,
           7.04
          ],
          [
           2017,
           "GO",
           16,
           9.153
          ],
          [
           2006,
           "RJ",
           100,
           22.391
          ],
          [
           2011,
           "RO",
           83,
           1.609
          ],
          [
           2018,
           "SC",
           77,
           13.5
          ],
          [
           2012,
           "BRASIL",
           54,
           261.517
          ],
          [
           2008,
           "SE",
           3,
           1.545
          ],
          [
           2014,
           "MA",
           40,
           3.528
          ],
          [
           2016,
           "BA",
           54,
           11.137
          ],
          [
           2007,
           "PB",
           3,
           1.795
          ],
          [
           2007,
           "RR",
           3,
           401
          ],
          [
           2012,
           "AL",
           17,
           1.825
          ],
          [
           2007,
           "TO",
           56,
           1.119
          ],
          [
           2014,
           "RS",
           10,
           19.288
          ],
          [
           2011,
           "TO",
           88,
           1.253
          ],
          [
           2008,
           "PI",
           32,
           1.386
          ],
          [
           2020,
           "PI",
           26,
           2.525
          ],
          [
           2015,
           "BA",
           19,
           10.938
          ],
          [
           2019,
           "MS",
           37,
           4.278
          ],
          [
           2006,
           "ES",
           10,
           3.386
          ],
          [
           2018,
           "TO",
           72,
           1.637
          ],
          [
           2017,
           "RO",
           79,
           1.973
          ],
          [
           2013,
           "BRASIL",
           60,
           270.243
          ],
          [
           2014,
           "DF",
           46,
           6.559
          ],
          [
           2014,
           "MG",
           23,
           25.434
          ],
          [
           2007,
           "SP",
           8,
           79.14
          ],
          [
           2011,
           "GO",
           90,
           7.036
          ],
          [
           2011,
           "PB",
           3,
           2.305
          ],
          [
           2013,
           "MA",
           26,
           3.353
          ],
          [
           2020,
           "RJ",
           50,
           30.746
          ],
          [
           2008,
           "RN",
           8,
           2.278
          ],
          [
           2008,
           "DF",
           94,
           5.143
          ],
          [
           2013,
           "SE",
           70,
           1.825
          ],
          [
           2009,
           "AC",
           41,
           298
          ],
          [
           2019,
           "AC",
           91,
           776
          ],
          [
           2016,
           "RJ",
           81,
           29.17
          ],
          [
           2018,
           "MA",
           61,
           4.167
          ],
          [
           2007,
           "PR",
           52,
           15.707
          ],
          [
           2007,
           "SP",
           10,
           79.139
          ],
          [
           2018,
           "SC",
           12,
           13.5
          ],
          [
           2016,
           "RR",
           72,
           575
          ],
          [
           2011,
           "PI",
           39,
           1.576
          ],
          [
           2007,
           "PB",
           71,
           1.795
          ],
          [
           2017,
           "MT",
           39,
           4.962
          ],
          [
           2019,
           "PA",
           27,
           6.101
          ],
          [
           2006,
           "RN",
           8,
           1.959
          ],
          [
           2013,
           "GO",
           87,
           8.002
          ],
          [
           2018,
           "PA",
           17,
           6.147
          ],
          [
           2011,
           "PB",
           26,
           2.305
          ],
          [
           2015,
           "MG",
           38,
           25.682
          ],
          [
           2020,
           "AC",
           97,
           788
          ],
          [
           2017,
           "AP",
           64,
           687
          ],
          [
           2016,
           "TO",
           50,
           1.498
          ],
          [
           2009,
           "MA",
           87,
           2.558
          ],
          [
           2014,
           "MA",
           22,
           3.528
          ],
          [
           2012,
           "SE",
           65,
           1.758
          ],
          [
           2008,
           "SP",
           17,
           80.969
          ],
          [
           2006,
           "PI",
           44,
           1.174
          ],
          [
           2013,
           "RN",
           11,
           2.759
          ],
          [
           2017,
           "AM",
           50,
           3.203
          ],
          [
           2007,
           "RN",
           17,
           2.18
          ],
          [
           2011,
           "MG",
           74,
           22.187
          ],
          [
           2018,
           "ES",
           30,
           5.682
          ],
          [
           2007,
           "DF",
           13,
           4.97
          ],
          [
           2014,
           "SP",
           95,
           87.744
          ],
          [
           2013,
           "MS",
           25,
           3.508
          ],
          [
           2014,
           "PE",
           17,
           7.593
          ],
          [
           2011,
           "GO",
           10,
           7.035
          ],
          [
           2009,
           "MS",
           67,
           2.853
          ],
          [
           2013,
           "SE",
           68,
           1.825
          ],
          [
           2014,
           "PI",
           28,
           2.091
          ],
          [
           2008,
           "DF",
           42,
           5.143
          ],
          [
           2017,
           "PE",
           23,
           7.763
          ],
          [
           2013,
           "RR",
           62,
           507
          ],
          [
           2006,
           "SP",
           34,
           73.985
          ],
          [
           2017,
           "ES",
           74,
           5.345
          ],
          [
           2019,
           "PA",
           5,
           6.101
          ],
          [
           2017,
           "MA",
           98,
           3.881
          ],
          [
           2015,
           "MS",
           9,
           3.787
          ],
          [
           2011,
           "MT",
           4,
           3.44
          ],
          [
           2013,
           "MS",
           74,
           3.508
          ],
          [
           2010,
           "BRASIL",
           60,
           239.63
          ],
          [
           2010,
           "RJ",
           72,
           23.719
          ],
          [
           2018,
           "MS",
           53,
           4.282
          ],
          [
           2018,
           "RN",
           53,
           3.198
          ],
          [
           2015,
           "BRASIL",
           94,
           282.846
          ],
          [
           2011,
           "SP",
           69,
           79.003
          ],
          [
           2007,
           "PR",
           44,
           15.707
          ],
          [
           2014,
           "CE",
           68,
           5.737
          ],
          [
           2012,
           "MT",
           39,
           3.744
          ],
          [
           2007,
           "RS",
           33,
           19.129
          ],
          [
           2006,
           "RN",
           12,
           1.959
          ],
          [
           2012,
           "CE",
           79,
           5.086
          ],
          [
           2017,
           "PB",
           4,
           2.964
          ],
          [
           2017,
           "PI",
           14,
           2.313
          ],
          [
           2009,
           "AM",
           56,
           2.594
          ],
          [
           2019,
           "PI",
           63,
           2.443
          ],
          [
           2007,
           "MT",
           22,
           3.048
          ],
          [
           2020,
           "PB",
           15,
           3.314
          ],
          [
           2012,
           "RN",
           33,
           2.617
          ],
          [
           2017,
           "PR",
           37,
           18.723
          ],
          [
           2016,
           "AP",
           18,
           663
          ],
          [
           2008,
           "MG",
           32,
           23.264
          ],
          [
           2014,
           "SP",
           56,
           87.744
          ],
          [
           2015,
           "SP",
           22,
           88.681
          ],
          [
           2015,
           "BRASIL",
           75,
           282.847
          ],
          [
           2020,
           "CE",
           36,
           7.039
          ],
          [
           2014,
           "RS",
           72,
           19.287
          ],
          [
           2008,
           "RO",
           36,
           915
          ],
          [
           2014,
           "GO",
           56,
           8.437
          ],
          [
           2016,
           "BA",
           56,
           11.136
          ],
          [
           2018,
           "RO",
           34,
           2.086
          ],
          [
           2011,
           "AM",
           56,
           2.753
          ],
          [
           2009,
           "RO",
           27,
           1.272
          ],
          [
           2014,
           "PR",
           72,
           17.096
          ],
          [
           2007,
           "GO",
           31,
           6.814
          ],
          [
           2019,
           "MA",
           2,
           4.047
          ],
          [
           2009,
           "MG",
           39,
           21.363
          ],
          [
           2009,
           "MT",
           20,
           3.175
          ],
          [
           2011,
           "DF",
           85,
           5.648
          ],
          [
           2011,
           "PB",
           48,
           2.306
          ],
          [
           2008,
           "AM",
           64,
           2.607
          ],
          [
           2012,
           "RO",
           77,
           1.733
          ],
          [
           2020,
           "PR",
           59,
           20.782
          ],
          [
           2006,
           "SC",
           16,
           9.031
          ],
          [
           2012,
           "PA",
           21,
           4.666
          ],
          [
           2020,
           "RO",
           7,
           2.171
          ],
          [
           2020,
           "RO",
           50,
           2.172
          ],
          [
           2015,
           "BRASIL",
           23,
           282.847
          ],
          [
           2007,
           "MT",
           92,
           3.049
          ],
          [
           2018,
           "RR",
           70,
           640
          ],
          [
           2012,
           "MS",
           49,
           3.306
          ],
          [
           2015,
           "RS",
           55,
           19.378
          ],
          [
           2014,
           "AL",
           23,
           2.057
          ],
          [
           2017,
           "PA",
           18,
           5.686
          ],
          [
           2012,
           "CE",
           21,
           5.086
          ],
          [
           2015,
           "AM",
           31,
           3.16
          ],
          [
           2019,
           "TO",
           36,
           1.619
          ],
          [
           2019,
           "RJ",
           93,
           30.171
          ],
          [
           2020,
           "GO",
           75,
           10.016
          ],
          [
           2017,
           "RJ",
           41,
           29.258
          ],
          [
           2012,
           "RS",
           20,
           17.988
          ],
          [
           2018,
           "RO",
           96,
           2.086
          ],
          [
           2016,
           "MT",
           62,
           4.731
          ],
          [
           2007,
           "PR",
           57,
           15.707
          ],
          [
           2014,
           "RR",
           75,
           545
          ],
          [
           2014,
           "SP",
           64,
           87.744
          ],
          [
           2014,
           "AM",
           44,
           3.208
          ],
          [
           2015,
           "PR",
           88,
           17.431
          ],
          [
           2020,
           "RN",
           66,
           3.303
          ],
          [
           2018,
           "RN",
           14,
           3.199
          ],
          [
           2008,
           "BA",
           70,
           8.834
          ],
          [
           2009,
           "PE",
           58,
           6.062
          ],
          [
           2007,
           "ES",
           29,
           4.027
          ],
          [
           2019,
           "MS",
           36,
           4.278
          ],
          [
           2018,
           "MG",
           1,
           28.551
          ],
          [
           2009,
           "AL",
           69,
           1.607
          ],
          [
           2011,
           "RS",
           46,
           17.289
          ],
          [
           2016,
           "MT",
           34,
           4.731
          ],
          [
           2008,
           "ES",
           77,
           4.194
          ],
          [
           2008,
           "TO",
           33,
           1.151
          ],
          [
           2010,
           "AP",
           95,
           428
          ],
          [
           2018,
           "CE",
           67,
           6.843
          ],
          [
           2018,
           "RN",
           76,
           3.199
          ],
          [
           2015,
           "GO",
           99,
           8.579
          ],
          [
           2009,
           "TO",
           73,
           1.173
          ],
          [
           2010,
           "MT",
           59,
           3.21
          ],
          [
           2017,
           "GO",
           37,
           9.153
          ],
          [
           2012,
           "RO",
           68,
           1.733
          ],
          [
           2011,
           "RJ",
           22,
           24.822
          ],
          [
           2007,
           "PA",
           34,
           3.405
          ],
          [
           2016,
           "TO",
           33,
           1.498
          ],
          [
           2013,
           "PR",
           51,
           16.373
          ],
          [
           2006,
           "RR",
           20,
           330
          ],
          [
           2018,
           "PE",
           52,
           8.118
          ],
          [
           2018,
           "MS",
           21,
           4.281
          ],
          [
           2011,
           "PB",
           76,
           2.305
          ],
          [
           2013,
           "AM",
           22,
           3.088
          ],
          [
           2010,
           "PA",
           41,
           3.755
          ],
          [
           2014,
           "MA",
           60,
           3.529
          ],
          [
           2019,
           "MA",
           23,
           4.048
          ],
          [
           2018,
           "BRASIL",
           50,
           304.524
          ],
          [
           2014,
           "MT",
           76,
           4.331
          ],
          [
           2009,
           "BRASIL",
           89,
           243.837
          ],
          [
           2006,
           "BA",
           40,
           7.644
          ],
          [
           2014,
           "DF",
           71,
           6.559
          ],
          [
           2017,
           "RN",
           88,
           3.067
          ],
          [
           2015,
           "RN",
           97,
           2.933
          ],
          [
           2017,
           "RJ",
           9,
           29.257
          ],
          [
           2018,
           "ES",
           89,
           5.682
          ],
          [
           2010,
           "CE",
           89,
           4.333
          ],
          [
           2007,
           "PR",
           47,
           15.707
          ],
          [
           2012,
           "MA",
           14,
           3.129
          ],
          [
           2009,
           "CE",
           68,
           4.28
          ],
          [
           2017,
           "RS",
           49,
           20.567
          ],
          [
           2007,
           "RO",
           86,
           117
          ],
          [
           2009,
           "SP",
           21,
           77.582
          ],
          [
           2017,
           "CE",
           62,
           6.221
          ],
          [
           2019,
           "BA",
           3,
           11.987
          ],
          [
           2013,
           "MG",
           97,
           24.33
          ],
          [
           2007,
           "PR",
           31,
           15.707
          ],
          [
           2016,
           "MG",
           12,
           26.441
          ],
          [
           2018,
           "PA",
           65,
           6.147
          ],
          [
           2019,
           "RS",
           48,
           21.597
          ],
          [
           2015,
           "SC",
           71,
           11.403
          ],
          [
           2012,
           "ES",
           73,
           4.71
          ],
          [
           2019,
           "RJ",
           60,
           30.172
          ],
          [
           2014,
           "PR",
           89,
           17.096
          ],
          [
           2020,
           "MA",
           30,
           4.22
          ],
          [
           2015,
           "PR",
           12,
           17.43
          ],
          [
           2018,
           "PR",
           56,
           19.65
          ],
          [
           2020,
           "SE",
           100,
           2.176
          ],
          [
           2009,
           "ES",
           45,
           4.049
          ],
          [
           2006,
           "MA",
           8,
           2.13
          ],
          [
           2019,
           "PR",
           59,
           19.811
          ],
          [
           2014,
           "CE",
           28,
           5.737
          ],
          [
           2012,
           "PR",
           49,
           15.72
          ],
          [
           2013,
           "RO",
           17,
           1.805
          ],
          [
           2019,
           "TO",
           28,
           1.62
          ],
          [
           2015,
           "RS",
           9,
           19.378
          ],
          [
           2012,
           "ES",
           88,
           4.71
          ],
          [
           2011,
           "SC",
           14,
           9.048
          ],
          [
           2007,
           "TO",
           33,
           1.118
          ],
          [
           2020,
           "PB",
           71,
           3.313
          ],
          [
           2008,
           "AL",
           74,
           1.63
          ],
          [
           2014,
           "RJ",
           27,
           28.662
          ],
          [
           2019,
           "RN",
           35,
           3.192
          ],
          [
           2015,
           "PI",
           25,
           2.158
          ],
          [
           2010,
           "PB",
           62,
           2.167
          ],
          [
           2015,
           "SE",
           8,
           1.937
          ],
          [
           2006,
           "RJ",
           93,
           22.391
          ],
          [
           2010,
           "PA",
           38,
           3.755
          ],
          [
           2006,
           "BRASIL",
           8,
           241.563
          ],
          [
           2011,
           "BA",
           35,
           9.313
          ],
          [
           2015,
           "CE",
           25,
           5.913
          ],
          [
           2015,
           "PE",
           63,
           7.549
          ],
          [
           2017,
           "DF",
           98,
           6.993
          ],
          [
           2019,
           "ES",
           39,
           5.656
          ],
          [
           2014,
           "BRASIL",
           30,
           280.203
          ],
          [
           2007,
           "RO",
           70,
           117
          ],
          [
           2013,
           "MS",
           78,
           3.509
          ],
          [
           2018,
           "BRASIL",
           55,
           304.524
          ],
          [
           2017,
           "AC",
           77,
           684
          ],
          [
           2020,
           "SP",
           32,
           102.127
          ],
          [
           2013,
           "AL",
           46,
           1.943
          ],
          [
           2018,
           "SC",
           61,
           13.5
          ],
          [
           2007,
           "BA",
           57,
           8.537
          ],
          [
           2016,
           "RS",
           16,
           19.94
          ],
          [
           2015,
           "AM",
           22,
           3.16
          ],
          [
           2016,
           "RN",
           21,
           3
          ],
          [
           2016,
           "TO",
           75,
           1.498
          ],
          [
           2017,
           "RR",
           43,
           595
          ],
          [
           2009,
           "MS",
           91,
           2.853
          ],
          [
           2020,
           "BA",
           49,
           12.245
          ],
          [
           2012,
           "PE",
           4,
           6.989
          ],
          [
           2018,
           "BA",
           17,
           12.225
          ],
          [
           2017,
           "PE",
           25,
           7.763
          ],
          [
           2014,
           "GO",
           27,
           8.437
          ],
          [
           2017,
           "SC",
           84,
           12.645
          ],
          [
           2011,
           "AM",
           25,
           2.753
          ],
          [
           2007,
           "PA",
           66,
           3.406
          ],
          [
           2007,
           "SC",
           37,
           10.014
          ],
          [
           2013,
           "RJ",
           60,
           27.42
          ],
          [
           2020,
           "ES",
           40,
           5.839
          ],
          [
           2013,
           "TO",
           61,
           1.357
          ],
          [
           2011,
           "CE",
           85,
           4.72
          ],
          [
           2010,
           "MS",
           97,
           2.891
          ],
          [
           2015,
           "DF",
           27,
           6.722
          ],
          [
           2020,
           "AC",
           49,
           788
          ],
          [
           2011,
           "SE",
           58,
           1.648
          ],
          [
           2006,
           "AL",
           62,
           1.431
          ],
          [
           2007,
           "AM",
           90,
           2.454
          ],
          [
           2007,
           "AM",
           4,
           2.455
          ],
          [
           2015,
           "MT",
           47,
           4.489
          ],
          [
           2015,
           "AL",
           27,
           2.083
          ],
          [
           2006,
           "DF",
           64,
           4.564
          ],
          [
           2015,
           "MG",
           91,
           25.682
          ],
          [
           2017,
           "AC",
           3,
           684
          ],
          [
           2010,
           "MG",
           41,
           21.172
          ],
          [
           2006,
           "RR",
           43,
           331
          ],
          [
           2020,
           "PA",
           85,
           6.375
          ],
          [
           2013,
           "GO",
           17,
           8.002
          ],
          [
           2020,
           "SP",
           13,
           102.126
          ],
          [
           2020,
           "AM",
           59,
           3.51
          ],
          [
           2007,
           "PI",
           7,
           1.317
          ],
          [
           2018,
           "AM",
           96,
           3.398
          ],
          [
           2011,
           "AC",
           97,
           363
          ],
          [
           2018,
           "PB",
           98,
           3.139
          ],
          [
           2008,
           "PA",
           43,
           3.622
          ],
          [
           2016,
           "RO",
           30,
           1.93
          ],
          [
           2013,
           "MT",
           13,
           4.031
          ],
          [
           2008,
           "MS",
           9,
           2.903
          ],
          [
           2009,
           "RS",
           29,
           17.661
          ],
          [
           2010,
           "ES",
           74,
           4.127
          ],
          [
           2019,
           "PR",
           86,
           19.812
          ],
          [
           2014,
           "RS",
           66,
           19.287
          ],
          [
           2009,
           "PA",
           16,
           3.643
          ],
          [
           2011,
           "CE",
           47,
           4.72
          ],
          [
           2015,
           "PE",
           50,
           7.548
          ],
          [
           2013,
           "PR",
           69,
           16.372
          ],
          [
           2008,
           "CE",
           39,
           4.3
          ],
          [
           2013,
           "MT",
           80,
           4.03
          ],
          [
           2008,
           "SE",
           74,
           1.545
          ],
          [
           2012,
           "ES",
           45,
           4.71
          ],
          [
           2011,
           "RO",
           74,
           1.609
          ],
          [
           2008,
           "AM",
           38,
           2.608
          ],
          [
           2019,
           "TO",
           49,
           1.619
          ],
          [
           2010,
           "PA",
           55,
           3.755
          ],
          [
           2014,
           "SP",
           77,
           87.744
          ],
          [
           2017,
           "MA",
           70,
           3.881
          ],
          [
           2017,
           "MA",
           36,
           3.881
          ],
          [
           2015,
           "AM",
           3,
           3.16
          ],
          [
           2012,
           "PE",
           74,
           6.989
          ],
          [
           2009,
           "RS",
           70,
           17.661
          ],
          [
           2013,
           "PA",
           90,
           4.999
          ],
          [
           2020,
           "MG",
           53,
           29.971
          ],
          [
           2019,
           "RJ",
           82,
           30.172
          ],
          [
           2012,
           "BA",
           54,
           9.927
          ],
          [
           2011,
           "BRASIL",
           96,
           248.985
          ],
          [
           2014,
           "PR",
           51,
           17.096
          ],
          [
           2008,
           "AM",
           87,
           2.608
          ],
          [
           2012,
           "AC",
           51,
           498
          ],
          [
           2006,
           "RS",
           81,
           18.034
          ]
         ],
         "hovertemplate": "Bens e Direitos - Imóveis [R$ milhões]=%{x}<br>Bens e Direitos - Financeiros [R$ milhões]=%{y}<br>Dívidas e Ônus [R$ milhões]=%{z}<br>Ano-calendário=%{customdata[0]}<br>Ente Federativo=%{customdata[1]}<br>Centil=%{customdata[2]}<br>Quantidade de Contribuintes=%{customdata[3]}<br>cluster=%{marker.color}<extra></extra>",
         "legendgroup": "",
         "marker": {
          "color": {
           "bdata": "AAAAAAEAAAAAAAAAAAAAAAAAAAAAAAAAAAAAAAAAAAAAAAAAAAAAAAAAAAAAAAAAAAAAAAAAAAAAAAAAAAAAAAAAAAABAAAAAQAAAAAAAAABAAAAAAAAAAEAAAAAAAAAAAAAAAEAAAAAAAAAAAAAAAAAAAAAAAAAAAAAAAAAAAAAAAAAAAAAAAAAAAAAAAAAAAAAAAAAAAAAAAAAAAAAAAAAAAAAAAAAAAAAAAAAAAABAAAAAAAAAAAAAAAAAAAAAQAAAAAAAAAAAAAAAQAAAAAAAAABAAAAAAAAAAAAAAAAAAAAAQAAAAEAAAAAAAAAAAAAAAAAAAAAAAAAAQAAAAEAAAAAAAAAAQAAAAEAAAAAAAAAAAAAAAAAAAAAAAAAAAAAAAAAAAAAAAAAAAAAAAAAAAAAAAAAAAAAAAAAAAABAAAAAAAAAAAAAAABAAAAAQAAAAAAAAAAAAAAAQAAAAEAAAAAAAAAAAAAAAAAAAAAAAAAAQAAAAAAAAABAAAAAAAAAAAAAAAAAAAAAAAAAAAAAAAAAAAAAQAAAAAAAAAAAAAAAQAAAAAAAAAAAAAAAAAAAAAAAAAAAAAAAAAAAAAAAAAAAAAAAAAAAAAAAAAAAAAAAAAAAAAAAAABAAAAAAAAAAAAAAAAAAAAAAAAAAAAAAABAAAAAAAAAAAAAAAAAAAAAAAAAAAAAAAAAAAAAAAAAAAAAAAAAAAAAAAAAAEAAAAAAAAAAAAAAAAAAAABAAAAAAAAAAEAAAAAAAAAAQAAAAAAAAABAAAAAAAAAAAAAAAAAAAAAAAAAAAAAAAAAAAAAAAAAAAAAAAAAAAAAAAAAAAAAAAAAAAAAAAAAAEAAAAAAAAAAAAAAAAAAAAAAAAAAAAAAAAAAAAAAAAAAAAAAAEAAAAAAAAAAAAAAAAAAAAAAAAAAAAAAAEAAAAAAAAAAAAAAAAAAAABAAAAAAAAAAEAAAABAAAAAAAAAAAAAAAAAAAAAAAAAAAAAAAAAAAAAAAAAAEAAAAAAAAAAAAAAAAAAAAAAAAAAAAAAAAAAAAAAAAAAAAAAAEAAAAAAAAAAQAAAAEAAAAAAAAAAAAAAAAAAAABAAAAAAAAAAEAAAAAAAAAAAAAAAAAAAABAAAAAAAAAAAAAAABAAAAAQAAAAAAAAAAAAAAAAAAAAAAAAAAAAAAAAAAAAAAAAAAAAAAAAAAAAEAAAAAAAAAAAAAAAAAAAAAAAAAAAAAAAAAAAABAAAAAAAAAAAAAAAAAAAAAAAAAAEAAAAAAAAAAAAAAAEAAAAAAAAAAAAAAAAAAAAAAAAAAAAAAAAAAAAAAAAAAAAAAAAAAAABAAAAAAAAAAAAAAAAAAAAAAAAAAAAAAAAAAAAAQAAAAEAAAAAAAAAAAAAAAEAAAABAAAAAAAAAAAAAAAAAAAAAAAAAAAAAAAAAAAAAAAAAAAAAAAAAAAAAAAAAAAAAAAAAAAAAAAAAAEAAAAAAAAAAAAAAAEAAAABAAAAAQAAAAAAAAABAAAAAAAAAAAAAAAAAAAAAAAAAAAAAAAAAAAAAQAAAAAAAAAAAAAAAAAAAAAAAAABAAAAAAAAAAAAAAAAAAAAAQAAAAAAAAAAAAAAAAAAAAAAAAABAAAAAAAAAAAAAAAAAAAAAQAAAAAAAAAAAAAAAAAAAAAAAAAAAAAAAQAAAAEAAAABAAAAAQAAAAAAAAAAAAAAAAAAAAAAAAABAAAAAAAAAAEAAAAAAAAAAAAAAAAAAAAAAAAAAAAAAAAAAAABAAAAAAAAAAAAAAAAAAAAAAAAAAAAAAAAAAAAAAAAAAAAAAABAAAAAAAAAAAAAAAAAAAAAAAAAAEAAAAAAAAAAAAAAAEAAAAAAAAAAAAAAAAAAAAAAAAAAAAAAAAAAAAAAAAAAAAAAAEAAAAAAAAAAQAAAAAAAAAAAAAAAAAAAAAAAAABAAAAAQAAAAAAAAAAAAAAAAAAAAAAAAABAAAAAAAAAAEAAAAAAAAAAAAAAAEAAAAAAAAAAQAAAAAAAAABAAAAAQAAAAAAAAABAAAAAQAAAAAAAAABAAAAAQAAAAEAAAAAAAAAAAAAAAEAAAAAAAAAAAAAAAAAAAAAAAAAAQAAAAAAAAAAAAAAAAAAAAAAAAAAAAAAAQAAAAAAAAAAAAAAAAAAAAAAAAABAAAAAAAAAAEAAAAAAAAAAAAAAAAAAAABAAAAAAAAAAEAAAAAAAAAAAAAAAEAAAAAAAAAAQAAAAAAAAABAAAAAAAAAAEAAAAAAAAAAAAAAAAAAAAAAAAAAAAAAAAAAAAAAAAAAAAAAAAAAAAAAAAAAQAAAAAAAAAAAAAAAAAAAAEAAAAAAAAAAAAAAAAAAAAAAAAAAAAAAAAAAAAAAAAAAAAAAAAAAAAAAAAAAAAAAAAAAAAAAAAAAQAAAAAAAAAAAAAAAAAAAAAAAAAAAAAAAQAAAAAAAAAAAAAAAAAAAAAAAAABAAAAAAAAAAAAAAAAAAAAAAAAAAAAAAAAAAAAAQAAAAEAAAAAAAAAAAAAAAAAAAABAAAAAAAAAAAAAAAAAAAAAAAAAAAAAAAAAAAAAAAAAAAAAAABAAAAAAAAAAAAAAAAAAAAAAAAAAAAAAAAAAAAAQAAAAEAAAAAAAAAAQAAAAEAAAAAAAAAAAAAAAAAAAA=",
           "dtype": "i4"
          },
          "coloraxis": "coloraxis",
          "size": 4,
          "symbol": "circle"
         },
         "mode": "markers",
         "name": "",
         "scene": "scene",
         "showlegend": false,
         "type": "scatter3d",
         "x": {
          "bdata": "hetRuB79ZkDhehSuByKdQPYoXI/C9WBAUrgeheshWkBmZmZmZmYkQI/C9ShcTzRAuB6F61F4N0BI4XoUrndqQLgehetROCpAPQrXo3ArhUApXI/C9fhbQLgehetRGFdAj8L1KFyPBEAzMzMzMzNfQK5H4XoUnmxA9ihcj8JhdkC4HoXrUaSGQOF6FK4HIp1A4XoUrgcinUCuR+F6FM5EQOF6FK4HIp1AXI/C9SicMkDhehSuByKdQNejcD0Kl1hAuB6F61G4O0DhehSuByKdQOxRuB6FK0JAPQrXo3A9IUD2KFyPwh1mQI/C9ShcK39ArkfhehSuFUCF61G4HiVXQM3MzMzMlGJA4XoUrkeNgUAzMzMzM9tgQD0K16NwfUhAhetRuB41YUCF61G4HgF6QFK4HoXriWJAPQrXo3AJiECamZmZmVlBQClcj8L11HBA7FG4HoWbd0DXo3A9Cp9lQOF6FK4HIp1Aj8L1KFwvW0CPwvUoXM9RQDMzMzMzQ1pAj8L1KFwVlkDXo3A9Cl9hQFyPwvUonENA4XoUrgcinUCPwvUoXG9jQOF6FK4HIp1AH4XrUbgeE0AAAAAAAKBtQI/C9ShcT2BA4XoUrkdpk0DhehSuByKdQK5H4XoUXldA4XoUrkdxUEApXI/C9ShBQD0K16NwbVRA4XoUrgcinUCamZmZmdSWQFyPwvUoHEFAZmZmZmbcmED2KFyPwvqbQPYoXI/CtTdASOF6FK6DdkDXo3A9Cj9mQMP1KFyPioBArkfhehSWZkAzMzMzM7tyQEjhehSuN3ZAmpmZmZkJUkDsUbgehYtQQHsUrkfhOkdAuB6F61G4HkBcj8L1KFweQOF6FK4HIp1ASOF6FK5HC0DD9Shcj2JUQAAAAAAA4HhA4XoUrgcinUDD9Shcj8ITQHsUrkfhehNA4XoUrgcinUAK16NwPX6YQAAAAAAAAAhA16NwPQptgkBI4XoUrnGAQJqZmZmZaV9AH4XrUbi7lEB7FK5H4ZpFQOF6FK4HIp1A9ihcj8KFWkBI4XoUridCQEjhehSuhzhACtejcD1ScEBxPQrXo3APQOF6FK5H9XpA4XoUrgcinUDD9ShcjwI5QDMzMzMzMxNAw/UoXI+CkEBmZmZmZuY1QHsUrkfhWkVAuB6F61FgZkAK16NwPco7QNejcD0K11BAzczMzMzsSUDsUbgehZt2QOF6FK5H9XhAUrgehesBYEAK16NwPQiGQGZmZmZmZghArkfhehTGZkBxPQrXo+x8QOF6FK4HIp1AMzMzMzOzTEBxPQrXo1BLQFyPwvUoXP8/AAAAAACAP0DsUbgehQtEQI/C9ShcmppAmpmZmZllhkAAAAAAAJx1QMP1KFyP0mRAuB6F61GwYUDNzMzMzIx7QK5H4XoU7kJArkfhehSeh0B7FK5H4X5wQIXrUbgeRVVApHA9CtcjJ0AfhetRuJSXQD0K16NwzVNASOF6FK7nSkCamZmZmVk2QHsUrkfhs5JAAAAAAACYfEDhehSuByKdQArXo3A9qntArkfhehS9kUD2KFyPwl1hQOF6FK4HIp1A7FG4HoWLZEBSuB6F6111QGZmZmZmhkZAj8L1KFzPNEAUrkfhevR5QNejcD0Kn3dAH4XrUbjIgUAUrkfhevRdQJqZmZmZ6XlAH4XrUbgeQkAK16NwPUo/QDMzMzMzMyJAmpmZmZm5aUCPwvUoXEGTQPYoXI/CBWdAH4XrUbieRkBcj8L1KHxRQM3MzMzMfFBApHA9CtezWkAUrkfhesh+QK5H4XoU/mZA9ihcj8LBkEDhehSuByKdQMP1KFyPwvk/cT0K16PQUEB7FK5H4QpmQHsUrkfhwmJAPQrXo3ANfkDhehSuByKdQKRwPQrXe2VASOF6FK7feUBI4XoUrmGNQOF6FK4HIp1AzczMzMzMTUDhehSuR9yYQOF6FK4HIp1Aj8L1KFyPMUBmZmZmZoZOQIXrUbgejXJAcT0K16NwLkDNzMzMzMz8P1K4HoXr8UBAXI/C9SjcOUAzMzMzM1uXQArXo3A92lFAzczMzMxMIkBSuB6F62FYQFyPwvUoJHdACtejcD2abkAzMzMzM9NHQGZmZmZmll1Aj8L1KFwHYkDhehSuByKdQB+F61G4CoBAAAAAAACLlkDhehSuByKdQPYoXI/ClYZAZmZmZmZmSUBcj8L1KNxBQOF6FK4HIp1A16NwPQoXQkBmZmZmZp2UQHsUrkfhelJA9ihcj8L18D/Xo3A9CtdKQOF6FK4HIp1AhetRuB49YUA9CtejcP18QOF6FK4HIp1AmpmZmZmhmEAzMzMzM7M2QNejcD0KVyZAH4XrUbheOkApXI/C9YhtQBSuR+F6GHlAXI/C9ShcPkAfhetRuEKMQDMzMzMzK2xA9ihcj8L1P0CuR+F6FLyVQHsUrkfhCmJAzczMzMxMLEAK16NwPepTQArXo3A92lJAZmZmZmaGTUDD9Shcj9JQQOF6FK4HIp1APQrXo3A9HEBcj8L1KBxKQKRwPQrXI0pAPQrXo3D9PkCuR+F6FFaTQAAAAAAA6HBAuB6F61FAakDhehSuByKdQFK4HoXrsWVAw/UoXI9aaUCamZmZmQl2QClcj8L1iF1Aw/UoXI8CWEAfhetRuF49QM3MzMzM5GZAmpmZmZn5aUBmZmZmZmYbQOF6FK4HIp1A16NwPQr3eEDsUbgehRt3QHsUrkfhMIlApHA9Ctd/e0CPwvUoXBNxQIXrUbgelXJA4XoUrgcinUBcj8L1KEqTQArXo3A9nnBArkfhehROWkDhehSuByKdQOF6FK4HIp1AcT0K16M8fEApXI/C9YhjQOF6FK5HUVtAH4XrUbhUhEA9CtejcH01QAAAAAAAIGhAXI/C9SjEYEApXI/C9UhCQClcj8L16DJAMzMzMzPTSEBcj8L1KLxRQAAAAAAAEFdAUrgehesRSEAfhetRuFSVQAAAAAAAAB1ArkfhehREhEDhehSuByKdQOF6FK4HIp1A4XoUrgcinUDNzMzMzLxqQJqZmZmZkptAhetRuB6FK0DsUbgehRd7QGZmZmZmhnVA4XoUrkcxXUDNzMzMzEw5QJqZmZmZWTBAuB6F61HbmEBxPQrXo+hgQFyPwvUo3GBAFK5H4XoCgUCuR+F6FE5ZQArXo3A99ZVAw/UoXI/iRUDD9Shcj4I0QClcj8L16ExA4XoUrgcinUApXI/C9ZhpQIXrUbgenWNAH4XrUbjqh0ApXI/C9VBkQOF6FK4HIp1AZmZmZmauakCkcD0K16MuQD0K16NwbWBAH4XrUbiQmEC4HoXrUVhGQDMzMzMzu2lASOF6FK7XXECamZmZmTlIQFK4HoXroVNA4XoUrgcinUBI4XoUrsWSQEjhehSumpNACtejcD3ckUBxPQrXoxB5QMP1KFyPompACtejcD1mgEC4HoXrUTgtQOF6FK4HIp1A7FG4HoVLQkDhehSuByKdQB+F61G4pmRA7FG4HoXLX0B7FK5H4epjQKRwPQrXM1ZAuB6F61H4UkCuR+F6FF5zQOF6FK4HIp1AMzMzMzMTQUBmZmZmZoKHQKRwPQrXf3JAAAAAAABgZEDNzMzMzAw+QAAAAAAAgCtA7FG4HoXfcEDXo3A9CidqQOF6FK4HIp1ArkfhehRuOUCuR+F6FJ5ZQFyPwvUoYIVAZmZmZmbGT0AzMzMzM9GMQLgehetR+DhA4XoUrkeBXUAUrkfhekKPQAAAAAAAAPA/hetRuB59aEDhehSuR4l2QAAAAAAAAFRACtejcD2KOECuR+F6FL5TQOF6FK5HsVJACtejcD1KWEDhehSuByKdQJqZmZmZzXNA4XoUrgcinUApXI/C9chVQArXo3A9xIZAuB6F61HUc0CkcD0K14+IQOF6FK4HIp1A4XoUrkdpjkCamZmZmRFwQClcj8L1IHtAcT0K16OwREDhehSuR+FQQD0K16NwPZZAj8L1KFyPDEDhehSuByKdQKRwPQrXO2ZAXI/C9Sj4hkDhehSuByKdQIXrUbge/X1AZmZmZmbvmECkcD0K11tqQK5H4XoUdptAcT0K16MbkEDsUbgehSN0QOF6FK4HIp1A4XoUrgcinUAAAAAAAIhgQKRwPQrXHpNA4XoUrkcImkAUrkfhehCdQK5H4XoUPlZAKVyPwvWoIEDhehSuByKdQEjhehSuB1pACtejcD3qikDsUbgehQtPQD0K16NwXWVA4XoUrgcinUAfhetRuMZ9QOxRuB6F03xAMzMzMzMzMkCF61G4Hq1sQB+F61G43kFA4XoUrkfekEAUrkfhevRVQOF6FK5HIUFAhetRuB7lSEAK16NwPbpSQOF6FK4HIp1AexSuR+FaUEDhehSuByKdQMP1KFyPcmNASOF6FK5XXEDXo3A9Cm9tQOF6FK4HIp1ArkfhehRWb0DhehSuByKdQI/C9Shcj+o/FK5H4XqscUDhehSuByKdQKRwPQrXozRA4XoUrgcinUAzMzMzMzM9QB+F61G4HJNA9ihcj8LFVEBmZmZmZtKcQM3MzMzM7EpAFK5H4XqUU0CF61G4HgVWQHE9Ctej8CFAAAAAAADoc0BmZmZmZoaBQArXo3A94mZArkfhehTggEDhehSuR0lqQNejcD0Km3pAexSuR+FSnEDXo3A9Ctc3QK5H4XoU7kVAFK5H4XoYckCamZmZmRaWQClcj8L18G1AcT0K16OwSEDNzMzMzDRsQD0K16NwXYNAMzMzMzMLfEAK16NwPco3QIXrUbgexUJAAAAAAACAKEBSuB6F61FUQHE9CtejcC1A16NwPQpvY0DNzMzMzGxEQJqZmZmZUWhA4XoUrgcinUAUrkfhepQzQNejcD0KN4dAcT0K16Nw9T9mZmZmZm6BQB+F61G4un1A4XoUrgcinUAUrkfheiRVQKRwPQrXoxlAzczMzMxMgkA9CtejcP0+QIXrUbge1ZFAH4XrUbi+QED2KFyPwjVdQOF6FK5HEWdAZmZmZmaWWEA9CtejcIeEQHE9CtejQG5A4XoUrgcinUAK16NwPQyWQM3MzMzMLE5AXI/C9SgMUkBxPQrXo4BiQK5H4XoUTJNACtejcD3KR0A9CtejcE1vQI/C9ShcDz1AmpmZmZn5X0C4HoXrUZhOQGZmZmZmZjFAzczMzMxMSkDNzMzMzMxOQOF6FK4HIp1ACtejcD3KVkApXI/C9chKQDMzMzMzE0xA4XoUrkc9dUBI4XoUrrmLQLgehetRUHFA4XoUrgcinUDhehSuByKdQI/C9ShcJ2tA4XoUrgcinUAK16NwPUWQQFK4HoXrMVFAuB6F61G4FUBcj8L1KCKNQA==",
          "dtype": "f8"
         },
         "y": {
          "bdata": "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",
          "dtype": "f8"
         },
         "z": {
          "bdata": "H4XrUbieSkAK16NwPcd2QKRwPQrXIzdACtejcD2KQUBxPQrXo3ALQNejcD0K1w1AexSuR+F6EUCF61G4HmVWQI/C9ShczzNAexSuR+EaXUD2KFyPwvVBQDMzMzMzMyVA9ihcj8L14D8UrkfhelQ7QGZmZmZm5ktAAAAAAABASEDsUbgehZteQArXo3A9x3ZACtejcD3HdkBmZmZmZmYUQArXo3A9x3ZA7FG4HoXrB0AK16NwPcd2QOF6FK5HYTVAAAAAAAAAAEAK16NwPcd2QEjhehSuRx1Aw/UoXI/C7T/NzMzMzIxAQBSuR+F61FlAcT0K16Nw+T/Xo3A9ClcwQJqZmZmZGTtAH4XrUbhuaEDhehSuRyE/QNejcD0K1xFA9ihcj8J1PEDsUbgehYtRQI/C9ShcjzhAhetRuB79YUDD9Shcj8IQQEjhehSuB1NAKVyPwvVYVkAAAAAAAEAyQArXo3A9x3ZAAAAAAACAQkAzMzMzM7MhQD0K16NwfT1ACtejcD3HdkD2KFyPwnUnQLgehetRuCFACtejcD3HdkB7FK5H4fo9QArXo3A9x3ZAcT0K16Nw3T9xPQrXo5BMQI/C9ShcTzRA9ihcj8ItcUAK16NwPcd2QB+F61G4HjJAUrgeheuRO0BI4XoUrkcVQJqZmZmZGSpACtejcD3HdkAUrkfhejRvQOF6FK5H4RFAXI/C9SjEc0BSuB6F6zl0QHsUrkfhegRAFK5H4XqUWEBcj8L1KPxBQBSuR+F61EtASOF6FK6HNUBcj8L1KNxGQKRwPQrXM1VAXI/C9SjcI0Bcj8L1KFwjQOF6FK5H4RxAzczMzMzMBkCkcD0K16P8PwrXo3A9x3ZApHA9Ctej4D+kcD0K1yMzQK5H4XoUpnVACtejcD3HdkDNzMzMzMzcP0jhehSuR+E/CtejcD3HdkAzMzMzM/dxQHE9CtejcN0/SOF6FK53Y0DD9Shcj9JhQMP1KFyPwjZA4XoUrkdZcUBI4XoUrkcSQArXo3A9x3ZAzczMzMzMPUBxPQrXo3ASQOxRuB6F6xFA9ihcj8I1NUAK16NwPQrHP4/C9ShcL01ACtejcD3HdkDXo3A9CtcSQHsUrkfhevA/mpmZmZmBbEA9CtejcD0KQClcj8L1KBlAuB6F61HYQ0AAAAAAAAAaQAAAAAAAgCdAhetRuB6FH0CF61G4HqVRQK5H4XoUDlBA9ihcj8L1MkD2KFyPwhVfQMP1KFyPwtU/9ihcj8J1KkDNzMzMzLxTQArXo3A9x3ZA4XoUrkdhMEBI4XoUrocwQMP1KFyPwuU/7FG4HoXrAUB7FK5H4XokQArXo3A9BnFAcT0K16OwWEDsUbgehQtGQKRwPQrXQ0VAUrgehevRMUAfhetRuF5RQArXo3A9ChdAZmZmZmbmS0DXo3A9CldTQHE9CtejcCtAj8L1KFyP8j9SuB6F67lxQPYoXI/C9SJA4XoUrkfhI0AzMzMzMzP3P7gehetRgHBAKVyPwvXITUAK16NwPcd2QNejcD0Kx1lASOF6FK5PaUAzMzMzMzMpQJqZmZmZ7XJA9ihcj8K1RkAzMzMzMzNIQOxRuB6F6ypA9ihcj8L1AEAzMzMzM5NRQK5H4XoU7khAPQrXo3CtU0BmZmZmZmY8QBSuR+F6BFBAUrgehetRIUApXI/C9SgQQMP1KFyPwkFArkfhehSuSEDD9Shcj8JwQFK4HoXrcUFArkfhehSuFECF61G4HgUtQI/C9ShczzBAj8L1KFxPQEDD9ShcjyJZQMP1KFyPwitA7FG4HoWzYEAK16NwPcd2QDMzMzMzM9M/9ihcj8J1IUCamZmZmZk2QIXrUbgeZUNACtejcD1qUUAUrkfheqB0QIXrUbgexTZA9ihcj8J9Y0ApXI/C9RhfQArXo3A9x3ZAhetRuB4FM0Bcj8L1KABzQArXo3A9x3ZASOF6FK5H8T8UrkfhehQfQIXrUbgexVFAj8L1KFyP6j+kcD0K16PgP8P1KFyPwhRAcT0K16NwDUCPwvUoXMN1QK5H4XoU7j1A9ihcj8L14D/Xo3A9ClcvQDMzMzMzc1tAj8L1KFwvRkDD9Shcj8IBQHsUrkfh+jdA4XoUrkdhO0AK16NwPcd2QBSuR+F6VFBA16NwPQrfaUAK16NwPcd2QEjhehSuv2NAhetRuB6FIUDhehSuR+EYQOxRuB6FT3VAH4XrUbgeFEAAAAAAALBoQK5H4XoUrjNAPQrXo3A92j9mZmZmZmYqQArXo3A9x3ZA9ihcj8J1XkAzMzMzMyNQQArXo3A9x3ZAKVyPwvVAcUC4HoXrUbgMQPYoXI/C9fg/rkfhehSuE0AK16NwPUpGQIXrUbgeBTNA4XoUrkfh+j9mZmZmZk5pQJqZmZmZGTNAuB6F61G4FUAK16NwPeJrQNejcD0K90BA4XoUrkfh+j97FK5H4XorQKRwPQrXYzNAFK5H4XoUJkC4HoXrUTgyQArXo3A9x3ZA9ihcj8L14D/2KFyPwrUxQI/C9ShcjxlAexSuR+F6BkBI4XoUrqNwQAAAAAAAwEFAXI/C9SjcO0AK16NwPcd2QJqZmZmZGT1AAAAAAACgRUCuR+F6FM5JQKRwPQrXA0BA9ihcj8I1NUBcj8L1KFwUQArXo3A9SjlASOF6FK5HS0CuR+F6FK7vPzMzMzMz02xAPQrXo3ANVEApXI/C9ShNQClcj8L1kGJAKVyPwvVoUUCPwvUoXI9VQLgehetRSFNACtejcD3HdkCamZmZmRltQFK4HoXr8U9A4XoUrkfhNEAK16NwPcd2QArXo3A9x3ZASOF6FK7nTEAUrkfhenRDQFyPwvUoHDhAKVyPwvVITUDsUbgehev5PwrXo3A9ulNAMzMzMzOzK0AUrkfhehQUQMP1KFyPwhVApHA9CtcjJUDXo3A9CtcaQIXrUbgeBS1Aw/UoXI9CKECuR+F6FCZxQAAAAAAAANA/H4XrUbgeUEAK16NwPcd2QArXo3A9x3ZACtejcD3HdkDXo3A9CldFQEjhehSuC3ZAhetRuB6FAUBcj8L1KMxTQAAAAAAAMFBAXI/C9ShcJkBcj8L1KFwYQDMzMzMzMwFACtejcD3HdkBmZmZmZqYwQKRwPQrX4zBAXI/C9ShsUUBcj8L1KFwmQOF6FK5HuWtAMzMzMzMzIUDhehSuR+EXQIXrUbgeBTNACtejcD3HdkBSuB6F65E5QMP1KFyPQiVAPQrXo3BVZEBmZmZmZiY+QArXo3A9x3ZAPQrXo3BdSkD2KFyPwvUGQOF6FK5HYT1AmpmZmZmRbUB7FK5H4XoXQNejcD0K1zpAj8L1KFwPKEAAAAAAAAAVQPYoXI/CdS5ACtejcD3HdkApXI/C9YhpQOxRuB6F62pAKVyPwvXYaUAAAAAAAABXQAAAAAAAUFBASOF6FK6HUECuR+F6FK4FQArXo3A9x3ZA7FG4HoXrFUAK16NwPcd2QKRwPQrXIz5AhetRuB5FNkApXI/C9Wg7QPYoXI/C9TRAZmZmZmbmIkAfhetRuD5SQArXo3A9x3ZA7FG4HoXrEkCPwvUoXO9gQGZmZmZmllBAKVyPwvUoOUB7FK5H4XoOQOxRuB6F6xNApHA9CteTUEAAAAAAAKBEQArXo3A9x3ZAZmZmZmZmGkCkcD0K16M8QDMzMzMzU1VAXI/C9SicMEBSuB6F68FkQI/C9Shcj/4/9ihcj8J1LECPwvUoXMdsQAAAAAAAAAAA16NwPQp3Q0CuR+F6FD5UQM3MzMzMDEBAAAAAAAAAEEDD9Shcj8IfQK5H4XoU7jBAj8L1KFxPM0AK16NwPcd2QGZmZmZmhlpACtejcD3HdkCuR+F6FK4eQB+F61G4LmFArkfhehQuUUAfhetRuH5kQArXo3A9x3ZA4XoUrke5Z0DsUbgehRtQQHsUrkfh+klA7FG4HoXrFUDXo3A9CtcsQFyPwvUovG5AzczMzMzM3D8K16NwPcd2QHE9CtejUENAmpmZmZmBYEAK16NwPcd2QMP1KFyPAkVAuB6F61EMdUBSuB6F69E9QArXo3A9UnJAPQrXo3CdbkCkcD0K1+NMQArXo3A9x3ZACtejcD3HdkBmZmZmZmY7QM3MzMzM/HFAj8L1KFzHckAfhetRuFZyQD0K16NwPStAMzMzMzMzA0AK16NwPcd2QAAAAAAAADNAcT0K16NwZUC4HoXrUbgXQGZmZmZmJjFAw/UoXI8Kb0A9CtejcM1WQJqZmZmZyVBAZmZmZmZmBED2KFyPwtVFQEjhehSuRxhAw/UoXI+6a0AUrkfhepQqQLgehetRuBVACtejcD0KKEAAAAAAAAAkQLgehetRdHRACtejcD0KFEAK16NwPcd2QDMzMzMzczxAMzMzMzNzPkBxPQrXo/BPQArXo3A9x3ZA9ihcj8IVQ0AK16NwPcd2QArXo3A9Csc/MzMzMzPTUEAK16NwPcd2QK5H4XoUrhtACtejcD3HdkBxPQrXo3AXQArXo3A9WmtAKVyPwvWoJkBI4XoUrqtxQFyPwvUoXBdAw/UoXI/CMEAUrkfhepQzQKRwPQrXo/A/7FG4HoX7UUA9CtejcD1XQB+F61G4Xj5ASOF6FK6XXEBcj8L1KNw/QAAAAAAAQE9APQrXo3ChdEAfhetRuB4DQNejcD0KVyBAKVyPwvXoTEApXI/C9dBvQI/C9ShcL0JAhetRuB6FI0DD9Shcj0JOQMP1KFyPymFAH4XrUbgeTEAfhetRuB4LQDMzMzMzc01ASOF6FK5H8T/2KFyPwvUvQClcj8L1KOw/16NwPQpXRUCkcD0K16MaQHE9CtejoFBACtejcD3HdkAzMzMzMzMJQJqZmZmZSWFAmpmZmZmZyT8AAAAAADBUQOF6FK5HgUxACtejcD3HdkC4HoXrUTgjQKRwPQrXo+g/KVyPwvWYXEBxPQrXo3AeQFyPwvUo7GdAhetRuB6FE0Bcj8L1KNwhQOxRuB6F60RAmpmZmZmZIUBI4XoUrndUQM3MzMzMbEVACtejcD3HdkCamZmZmalwQHsUrkfhehJAH4XrUbgeL0DXo3A9CpdJQEjhehSu33FASOF6FK5HGEB7FK5H4ZpTQOxRuB6F6xlAcT0K16NwOEDNzMzMzAwxQBSuR+F6FBNAzczMzMzMI0AfhetRuB4fQArXo3A9x3ZA7FG4HoXrN0CamZmZmZkJQArXo3A9CitAUrgehetRVUDhehSuR1ljQPYoXI/ClVBACtejcD3HdkAK16NwPcd2QMP1KFyPAkdACtejcD3HdkBSuB6F6wFrQD0K16NwfTRA9ihcj8L16D9I4XoUrldZQA==",
          "dtype": "f8"
         }
        }
       ],
       "layout": {
        "coloraxis": {
         "colorbar": {
          "title": {
           "text": "cluster"
          }
         },
         "colorscale": [
          [
           0,
           "#0d0887"
          ],
          [
           0.1111111111111111,
           "#46039f"
          ],
          [
           0.2222222222222222,
           "#7201a8"
          ],
          [
           0.3333333333333333,
           "#9c179e"
          ],
          [
           0.4444444444444444,
           "#bd3786"
          ],
          [
           0.5555555555555556,
           "#d8576b"
          ],
          [
           0.6666666666666666,
           "#ed7953"
          ],
          [
           0.7777777777777778,
           "#fb9f3a"
          ],
          [
           0.8888888888888888,
           "#fdca26"
          ],
          [
           1,
           "#f0f921"
          ]
         ]
        },
        "legend": {
         "tracegroupgap": 0
        },
        "scene": {
         "domain": {
          "x": [
           0,
           1
          ],
          "y": [
           0,
           1
          ]
         },
         "xaxis": {
          "title": {
           "text": "Bens e Direitos - Imóveis [R$ milhões]"
          }
         },
         "yaxis": {
          "title": {
           "text": "Bens e Direitos - Financeiros [R$ milhões]"
          }
         },
         "zaxis": {
          "title": {
           "text": "Dívidas e Ônus [R$ milhões]"
          }
         }
        },
        "template": {
         "data": {
          "bar": [
           {
            "error_x": {
             "color": "#2a3f5f"
            },
            "error_y": {
             "color": "#2a3f5f"
            },
            "marker": {
             "line": {
              "color": "#E5ECF6",
              "width": 0.5
             },
             "pattern": {
              "fillmode": "overlay",
              "size": 10,
              "solidity": 0.2
             }
            },
            "type": "bar"
           }
          ],
          "barpolar": [
           {
            "marker": {
             "line": {
              "color": "#E5ECF6",
              "width": 0.5
             },
             "pattern": {
              "fillmode": "overlay",
              "size": 10,
              "solidity": 0.2
             }
            },
            "type": "barpolar"
           }
          ],
          "carpet": [
           {
            "aaxis": {
             "endlinecolor": "#2a3f5f",
             "gridcolor": "white",
             "linecolor": "white",
             "minorgridcolor": "white",
             "startlinecolor": "#2a3f5f"
            },
            "baxis": {
             "endlinecolor": "#2a3f5f",
             "gridcolor": "white",
             "linecolor": "white",
             "minorgridcolor": "white",
             "startlinecolor": "#2a3f5f"
            },
            "type": "carpet"
           }
          ],
          "choropleth": [
           {
            "colorbar": {
             "outlinewidth": 0,
             "ticks": ""
            },
            "type": "choropleth"
           }
          ],
          "contour": [
           {
            "colorbar": {
             "outlinewidth": 0,
             "ticks": ""
            },
            "colorscale": [
             [
              0,
              "#0d0887"
             ],
             [
              0.1111111111111111,
              "#46039f"
             ],
             [
              0.2222222222222222,
              "#7201a8"
             ],
             [
              0.3333333333333333,
              "#9c179e"
             ],
             [
              0.4444444444444444,
              "#bd3786"
             ],
             [
              0.5555555555555556,
              "#d8576b"
             ],
             [
              0.6666666666666666,
              "#ed7953"
             ],
             [
              0.7777777777777778,
              "#fb9f3a"
             ],
             [
              0.8888888888888888,
              "#fdca26"
             ],
             [
              1,
              "#f0f921"
             ]
            ],
            "type": "contour"
           }
          ],
          "contourcarpet": [
           {
            "colorbar": {
             "outlinewidth": 0,
             "ticks": ""
            },
            "type": "contourcarpet"
           }
          ],
          "heatmap": [
           {
            "colorbar": {
             "outlinewidth": 0,
             "ticks": ""
            },
            "colorscale": [
             [
              0,
              "#0d0887"
             ],
             [
              0.1111111111111111,
              "#46039f"
             ],
             [
              0.2222222222222222,
              "#7201a8"
             ],
             [
              0.3333333333333333,
              "#9c179e"
             ],
             [
              0.4444444444444444,
              "#bd3786"
             ],
             [
              0.5555555555555556,
              "#d8576b"
             ],
             [
              0.6666666666666666,
              "#ed7953"
             ],
             [
              0.7777777777777778,
              "#fb9f3a"
             ],
             [
              0.8888888888888888,
              "#fdca26"
             ],
             [
              1,
              "#f0f921"
             ]
            ],
            "type": "heatmap"
           }
          ],
          "histogram": [
           {
            "marker": {
             "pattern": {
              "fillmode": "overlay",
              "size": 10,
              "solidity": 0.2
             }
            },
            "type": "histogram"
           }
          ],
          "histogram2d": [
           {
            "colorbar": {
             "outlinewidth": 0,
             "ticks": ""
            },
            "colorscale": [
             [
              0,
              "#0d0887"
             ],
             [
              0.1111111111111111,
              "#46039f"
             ],
             [
              0.2222222222222222,
              "#7201a8"
             ],
             [
              0.3333333333333333,
              "#9c179e"
             ],
             [
              0.4444444444444444,
              "#bd3786"
             ],
             [
              0.5555555555555556,
              "#d8576b"
             ],
             [
              0.6666666666666666,
              "#ed7953"
             ],
             [
              0.7777777777777778,
              "#fb9f3a"
             ],
             [
              0.8888888888888888,
              "#fdca26"
             ],
             [
              1,
              "#f0f921"
             ]
            ],
            "type": "histogram2d"
           }
          ],
          "histogram2dcontour": [
           {
            "colorbar": {
             "outlinewidth": 0,
             "ticks": ""
            },
            "colorscale": [
             [
              0,
              "#0d0887"
             ],
             [
              0.1111111111111111,
              "#46039f"
             ],
             [
              0.2222222222222222,
              "#7201a8"
             ],
             [
              0.3333333333333333,
              "#9c179e"
             ],
             [
              0.4444444444444444,
              "#bd3786"
             ],
             [
              0.5555555555555556,
              "#d8576b"
             ],
             [
              0.6666666666666666,
              "#ed7953"
             ],
             [
              0.7777777777777778,
              "#fb9f3a"
             ],
             [
              0.8888888888888888,
              "#fdca26"
             ],
             [
              1,
              "#f0f921"
             ]
            ],
            "type": "histogram2dcontour"
           }
          ],
          "mesh3d": [
           {
            "colorbar": {
             "outlinewidth": 0,
             "ticks": ""
            },
            "type": "mesh3d"
           }
          ],
          "parcoords": [
           {
            "line": {
             "colorbar": {
              "outlinewidth": 0,
              "ticks": ""
             }
            },
            "type": "parcoords"
           }
          ],
          "pie": [
           {
            "automargin": true,
            "type": "pie"
           }
          ],
          "scatter": [
           {
            "fillpattern": {
             "fillmode": "overlay",
             "size": 10,
             "solidity": 0.2
            },
            "type": "scatter"
           }
          ],
          "scatter3d": [
           {
            "line": {
             "colorbar": {
              "outlinewidth": 0,
              "ticks": ""
             }
            },
            "marker": {
             "colorbar": {
              "outlinewidth": 0,
              "ticks": ""
             }
            },
            "type": "scatter3d"
           }
          ],
          "scattercarpet": [
           {
            "marker": {
             "colorbar": {
              "outlinewidth": 0,
              "ticks": ""
             }
            },
            "type": "scattercarpet"
           }
          ],
          "scattergeo": [
           {
            "marker": {
             "colorbar": {
              "outlinewidth": 0,
              "ticks": ""
             }
            },
            "type": "scattergeo"
           }
          ],
          "scattergl": [
           {
            "marker": {
             "colorbar": {
              "outlinewidth": 0,
              "ticks": ""
             }
            },
            "type": "scattergl"
           }
          ],
          "scattermap": [
           {
            "marker": {
             "colorbar": {
              "outlinewidth": 0,
              "ticks": ""
             }
            },
            "type": "scattermap"
           }
          ],
          "scattermapbox": [
           {
            "marker": {
             "colorbar": {
              "outlinewidth": 0,
              "ticks": ""
             }
            },
            "type": "scattermapbox"
           }
          ],
          "scatterpolar": [
           {
            "marker": {
             "colorbar": {
              "outlinewidth": 0,
              "ticks": ""
             }
            },
            "type": "scatterpolar"
           }
          ],
          "scatterpolargl": [
           {
            "marker": {
             "colorbar": {
              "outlinewidth": 0,
              "ticks": ""
             }
            },
            "type": "scatterpolargl"
           }
          ],
          "scatterternary": [
           {
            "marker": {
             "colorbar": {
              "outlinewidth": 0,
              "ticks": ""
             }
            },
            "type": "scatterternary"
           }
          ],
          "surface": [
           {
            "colorbar": {
             "outlinewidth": 0,
             "ticks": ""
            },
            "colorscale": [
             [
              0,
              "#0d0887"
             ],
             [
              0.1111111111111111,
              "#46039f"
             ],
             [
              0.2222222222222222,
              "#7201a8"
             ],
             [
              0.3333333333333333,
              "#9c179e"
             ],
             [
              0.4444444444444444,
              "#bd3786"
             ],
             [
              0.5555555555555556,
              "#d8576b"
             ],
             [
              0.6666666666666666,
              "#ed7953"
             ],
             [
              0.7777777777777778,
              "#fb9f3a"
             ],
             [
              0.8888888888888888,
              "#fdca26"
             ],
             [
              1,
              "#f0f921"
             ]
            ],
            "type": "surface"
           }
          ],
          "table": [
           {
            "cells": {
             "fill": {
              "color": "#EBF0F8"
             },
             "line": {
              "color": "white"
             }
            },
            "header": {
             "fill": {
              "color": "#C8D4E3"
             },
             "line": {
              "color": "white"
             }
            },
            "type": "table"
           }
          ]
         },
         "layout": {
          "annotationdefaults": {
           "arrowcolor": "#2a3f5f",
           "arrowhead": 0,
           "arrowwidth": 1
          },
          "autotypenumbers": "strict",
          "coloraxis": {
           "colorbar": {
            "outlinewidth": 0,
            "ticks": ""
           }
          },
          "colorscale": {
           "diverging": [
            [
             0,
             "#8e0152"
            ],
            [
             0.1,
             "#c51b7d"
            ],
            [
             0.2,
             "#de77ae"
            ],
            [
             0.3,
             "#f1b6da"
            ],
            [
             0.4,
             "#fde0ef"
            ],
            [
             0.5,
             "#f7f7f7"
            ],
            [
             0.6,
             "#e6f5d0"
            ],
            [
             0.7,
             "#b8e186"
            ],
            [
             0.8,
             "#7fbc41"
            ],
            [
             0.9,
             "#4d9221"
            ],
            [
             1,
             "#276419"
            ]
           ],
           "sequential": [
            [
             0,
             "#0d0887"
            ],
            [
             0.1111111111111111,
             "#46039f"
            ],
            [
             0.2222222222222222,
             "#7201a8"
            ],
            [
             0.3333333333333333,
             "#9c179e"
            ],
            [
             0.4444444444444444,
             "#bd3786"
            ],
            [
             0.5555555555555556,
             "#d8576b"
            ],
            [
             0.6666666666666666,
             "#ed7953"
            ],
            [
             0.7777777777777778,
             "#fb9f3a"
            ],
            [
             0.8888888888888888,
             "#fdca26"
            ],
            [
             1,
             "#f0f921"
            ]
           ],
           "sequentialminus": [
            [
             0,
             "#0d0887"
            ],
            [
             0.1111111111111111,
             "#46039f"
            ],
            [
             0.2222222222222222,
             "#7201a8"
            ],
            [
             0.3333333333333333,
             "#9c179e"
            ],
            [
             0.4444444444444444,
             "#bd3786"
            ],
            [
             0.5555555555555556,
             "#d8576b"
            ],
            [
             0.6666666666666666,
             "#ed7953"
            ],
            [
             0.7777777777777778,
             "#fb9f3a"
            ],
            [
             0.8888888888888888,
             "#fdca26"
            ],
            [
             1,
             "#f0f921"
            ]
           ]
          },
          "colorway": [
           "#636efa",
           "#EF553B",
           "#00cc96",
           "#ab63fa",
           "#FFA15A",
           "#19d3f3",
           "#FF6692",
           "#B6E880",
           "#FF97FF",
           "#FECB52"
          ],
          "font": {
           "color": "#2a3f5f"
          },
          "geo": {
           "bgcolor": "white",
           "lakecolor": "white",
           "landcolor": "#E5ECF6",
           "showlakes": true,
           "showland": true,
           "subunitcolor": "white"
          },
          "hoverlabel": {
           "align": "left"
          },
          "hovermode": "closest",
          "mapbox": {
           "style": "light"
          },
          "paper_bgcolor": "white",
          "plot_bgcolor": "#E5ECF6",
          "polar": {
           "angularaxis": {
            "gridcolor": "white",
            "linecolor": "white",
            "ticks": ""
           },
           "bgcolor": "#E5ECF6",
           "radialaxis": {
            "gridcolor": "white",
            "linecolor": "white",
            "ticks": ""
           }
          },
          "scene": {
           "xaxis": {
            "backgroundcolor": "#E5ECF6",
            "gridcolor": "white",
            "gridwidth": 2,
            "linecolor": "white",
            "showbackground": true,
            "ticks": "",
            "zerolinecolor": "white"
           },
           "yaxis": {
            "backgroundcolor": "#E5ECF6",
            "gridcolor": "white",
            "gridwidth": 2,
            "linecolor": "white",
            "showbackground": true,
            "ticks": "",
            "zerolinecolor": "white"
           },
           "zaxis": {
            "backgroundcolor": "#E5ECF6",
            "gridcolor": "white",
            "gridwidth": 2,
            "linecolor": "white",
            "showbackground": true,
            "ticks": "",
            "zerolinecolor": "white"
           }
          },
          "shapedefaults": {
           "line": {
            "color": "#2a3f5f"
           }
          },
          "ternary": {
           "aaxis": {
            "gridcolor": "white",
            "linecolor": "white",
            "ticks": ""
           },
           "baxis": {
            "gridcolor": "white",
            "linecolor": "white",
            "ticks": ""
           },
           "bgcolor": "#E5ECF6",
           "caxis": {
            "gridcolor": "white",
            "linecolor": "white",
            "ticks": ""
           }
          },
          "title": {
           "x": 0.05
          },
          "xaxis": {
           "automargin": true,
           "gridcolor": "white",
           "linecolor": "white",
           "ticks": "",
           "title": {
            "standoff": 15
           },
           "zerolinecolor": "white",
           "zerolinewidth": 2
          },
          "yaxis": {
           "automargin": true,
           "gridcolor": "white",
           "linecolor": "white",
           "ticks": "",
           "title": {
            "standoff": 15
           },
           "zerolinecolor": "white",
           "zerolinewidth": 2
          }
         }
        },
        "title": {
         "text": "Clusters (amostra ~500) — 3D"
        }
       }
      }
     },
     "metadata": {},
     "output_type": "display_data"
    },
    {
     "name": "stdout",
     "output_type": "stream",
     "text": [
      "Gráfico salvo em: export/02_clusterizacao/clusters_3d_amostra.html\n"
     ]
    }
   ],
   "source": [
    "fig = px.scatter_3d(\n",
    "    df_cluster_500,\n",
    "    x='Bens e Direitos - Imóveis [R$ milhões]',\n",
    "    y='Bens e Direitos - Financeiros [R$ milhões]',\n",
    "    z='Dívidas e Ônus [R$ milhões]',\n",
    "    color='cluster',\n",
    "    hover_data=['Ano-calendário','Ente Federativo','Centil','Quantidade de Contribuintes'],\n",
    "    title='Clusters (amostra ~500) — 3D'\n",
    ")\n",
    "fig.update_traces(marker=dict(size=4))\n",
    "fig.show()\n",
    "\n",
    "# Exportar HTML interativo\n",
    "html_path = f\"{EXPORT_DIR}/clusters_3d_amostra.html\"\n",
    "fig.write_html(html_path)\n",
    "print('Gráfico salvo em:', html_path)\n"
   ]
  },
  {
   "cell_type": "markdown",
   "id": "24e5c7c4",
   "metadata": {},
   "source": [
    "## 13) *Profiling* dos Clusters (Escala Original)\n"
   ]
  },
  {
   "cell_type": "code",
   "execution_count": 14,
   "id": "debacf45",
   "metadata": {},
   "outputs": [
    {
     "data": {
      "text/html": [
       "<div>\n",
       "<style scoped>\n",
       "    .dataframe tbody tr th:only-of-type {\n",
       "        vertical-align: middle;\n",
       "    }\n",
       "\n",
       "    .dataframe tbody tr th {\n",
       "        vertical-align: top;\n",
       "    }\n",
       "\n",
       "    .dataframe thead tr th {\n",
       "        text-align: left;\n",
       "    }\n",
       "\n",
       "    .dataframe thead tr:last-of-type th {\n",
       "        text-align: right;\n",
       "    }\n",
       "</style>\n",
       "<table border=\"1\" class=\"dataframe\">\n",
       "  <thead>\n",
       "    <tr>\n",
       "      <th></th>\n",
       "      <th colspan=\"5\" halign=\"left\">Bens e Direitos - Imóveis [R$ milhões]</th>\n",
       "      <th colspan=\"5\" halign=\"left\">Bens e Direitos - Financeiros [R$ milhões]</th>\n",
       "      <th colspan=\"5\" halign=\"left\">Dívidas e Ônus [R$ milhões]</th>\n",
       "      <th colspan=\"5\" halign=\"left\">Quantidade de Contribuintes</th>\n",
       "    </tr>\n",
       "    <tr>\n",
       "      <th></th>\n",
       "      <th>mean</th>\n",
       "      <th>median</th>\n",
       "      <th>min</th>\n",
       "      <th>max</th>\n",
       "      <th>count</th>\n",
       "      <th>mean</th>\n",
       "      <th>median</th>\n",
       "      <th>min</th>\n",
       "      <th>max</th>\n",
       "      <th>count</th>\n",
       "      <th>mean</th>\n",
       "      <th>median</th>\n",
       "      <th>min</th>\n",
       "      <th>max</th>\n",
       "      <th>count</th>\n",
       "      <th>mean</th>\n",
       "      <th>median</th>\n",
       "      <th>min</th>\n",
       "      <th>max</th>\n",
       "      <th>count</th>\n",
       "    </tr>\n",
       "    <tr>\n",
       "      <th>cluster</th>\n",
       "      <th></th>\n",
       "      <th></th>\n",
       "      <th></th>\n",
       "      <th></th>\n",
       "      <th></th>\n",
       "      <th></th>\n",
       "      <th></th>\n",
       "      <th></th>\n",
       "      <th></th>\n",
       "      <th></th>\n",
       "      <th></th>\n",
       "      <th></th>\n",
       "      <th></th>\n",
       "      <th></th>\n",
       "      <th></th>\n",
       "      <th></th>\n",
       "      <th></th>\n",
       "      <th></th>\n",
       "      <th></th>\n",
       "      <th></th>\n",
       "    </tr>\n",
       "  </thead>\n",
       "  <tbody>\n",
       "    <tr>\n",
       "      <th>0</th>\n",
       "      <td>189.347455</td>\n",
       "      <td>105.2200</td>\n",
       "      <td>0.83</td>\n",
       "      <td>1072.4400</td>\n",
       "      <td>385</td>\n",
       "      <td>159.815974</td>\n",
       "      <td>78.1900</td>\n",
       "      <td>0.23</td>\n",
       "      <td>1209.4900</td>\n",
       "      <td>385</td>\n",
       "      <td>35.224649</td>\n",
       "      <td>19.3100</td>\n",
       "      <td>0.00</td>\n",
       "      <td>202.4500</td>\n",
       "      <td>385</td>\n",
       "      <td>62.668265</td>\n",
       "      <td>4.165</td>\n",
       "      <td>1.118</td>\n",
       "      <td>969.000</td>\n",
       "      <td>385</td>\n",
       "    </tr>\n",
       "    <tr>\n",
       "      <th>1</th>\n",
       "      <td>1651.494565</td>\n",
       "      <td>1864.5075</td>\n",
       "      <td>398.00</td>\n",
       "      <td>1864.5075</td>\n",
       "      <td>115</td>\n",
       "      <td>1412.598457</td>\n",
       "      <td>1576.3425</td>\n",
       "      <td>418.47</td>\n",
       "      <td>1576.3425</td>\n",
       "      <td>115</td>\n",
       "      <td>318.207261</td>\n",
       "      <td>364.4525</td>\n",
       "      <td>166.06</td>\n",
       "      <td>364.4525</td>\n",
       "      <td>115</td>\n",
       "      <td>66.051739</td>\n",
       "      <td>25.434</td>\n",
       "      <td>2.176</td>\n",
       "      <td>304.985</td>\n",
       "      <td>115</td>\n",
       "    </tr>\n",
       "  </tbody>\n",
       "</table>\n",
       "</div>"
      ],
      "text/plain": [
       "        Bens e Direitos - Imóveis [R$ milhões]                                \\\n",
       "                                          mean     median     min        max   \n",
       "cluster                                                                        \n",
       "0                                   189.347455   105.2200    0.83  1072.4400   \n",
       "1                                  1651.494565  1864.5075  398.00  1864.5075   \n",
       "\n",
       "              Bens e Direitos - Financeiros [R$ milhões]                     \\\n",
       "        count                                       mean     median     min   \n",
       "cluster                                                                       \n",
       "0         385                                 159.815974    78.1900    0.23   \n",
       "1         115                                1412.598457  1576.3425  418.47   \n",
       "\n",
       "                         Dívidas e Ônus [R$ milhões]                    \\\n",
       "               max count                        mean    median     min   \n",
       "cluster                                                                  \n",
       "0        1209.4900   385                   35.224649   19.3100    0.00   \n",
       "1        1576.3425   115                  318.207261  364.4525  166.06   \n",
       "\n",
       "                        Quantidade de Contribuintes                          \\\n",
       "              max count                        mean  median    min      max   \n",
       "cluster                                                                       \n",
       "0        202.4500   385                   62.668265   4.165  1.118  969.000   \n",
       "1        364.4525   115                   66.051739  25.434  2.176  304.985   \n",
       "\n",
       "               \n",
       "        count  \n",
       "cluster        \n",
       "0         385  \n",
       "1         115  "
      ]
     },
     "execution_count": 14,
     "metadata": {},
     "output_type": "execute_result"
    }
   ],
   "source": [
    "profile = (\n",
    "    df_cluster_500\n",
    "    .groupby('cluster')[VARS + ['Quantidade de Contribuintes']]\n",
    "    .agg(['mean','median','min','max','count'])\n",
    ")\n",
    "profile\n"
   ]
  },
  {
   "cell_type": "markdown",
   "id": "47355e1e",
   "metadata": {},
   "source": [
    "## 14) Exportação de Artefatos\n"
   ]
  },
  {
   "cell_type": "code",
   "execution_count": 15,
   "id": "d0166983",
   "metadata": {},
   "outputs": [
    {
     "name": "stdout",
     "output_type": "stream",
     "text": [
      "Amostra com rótulos  -> export/02_clusterizacao/df_cluster_500_rotulado.csv\n",
      "Centróides (original)-> export/02_clusterizacao/kmeans_centroids_original.csv\n"
     ]
    }
   ],
   "source": [
    "# Exportar amostra rotulada e centróides\n",
    "amostra_path = f\"{EXPORT_DIR}/df_cluster_500_rotulado.csv\"\n",
    "centroids_path = f\"{EXPORT_DIR}/kmeans_centroids_original.csv\"\n",
    "\n",
    "df_cluster_500.to_csv(amostra_path, index=False, encoding='utf-8')\n",
    "centroids_df.to_csv(centroids_path, index=True, encoding='utf-8')\n",
    "\n",
    "print('Amostra com rótulos  ->', amostra_path)\n",
    "print('Centróides (original)->', centroids_path)\n"
   ]
  },
  {
   "cell_type": "markdown",
   "id": "a9a4f1fa",
   "metadata": {},
   "source": [
    "## 15) Próximos Passos / Ideias\n",
    "\n",
    "- Repetir o ajuste em **df_cluster_full** (sem amostragem) para ver estabilidade dos clusters.  \n",
    "- Rodar K-Means por **ano** (clusterização anual) e comparar.  \n",
    "- Explorar **padronização robusta** (RobustScaler) para lidar com *outliers*.  \n",
    "- Criar **indicadores derivados** (ex.: Dívidas / (Imóveis + Financeiros)).  \n",
    "- Validar variância intra/inter-cluster e **estabilidade** com *bootstrapping*.  \n",
    "- Documentar **interpretação de cada cluster** (ex.: “alto ativo financeiro”, “endividamento elevado” etc.).\n"
   ]
  },
  {
   "cell_type": "markdown",
   "id": "536bb305",
   "metadata": {},
   "source": [
    "## 16) Reprodutibilidade\n"
   ]
  },
  {
   "cell_type": "code",
   "execution_count": 16,
   "id": "e5a2543f",
   "metadata": {},
   "outputs": [
    {
     "name": "stdout",
     "output_type": "stream",
     "text": [
      "numpy: 2.3.2\n",
      "pandas: 2.3.2\n",
      "scikit-learn: N/A\n",
      "matplotlib: 3.10.6\n",
      "plotly: 6.3.0\n"
     ]
    }
   ],
   "source": [
    "import importlib, pkgutil\n",
    "mods = ['numpy','pandas','scikit-learn','matplotlib','plotly']\n",
    "for m in mods:\n",
    "    try:\n",
    "        ver = importlib.import_module(m).__version__\n",
    "    except Exception:\n",
    "        ver = 'N/A'\n",
    "    print(f\"{m}: {ver}\")\n"
   ]
  }
 ],
 "metadata": {
  "kernelspec": {
   "display_name": ".venv (3.13.7)",
   "language": "python",
   "name": "python3"
  },
  "language_info": {
   "codemirror_mode": {
    "name": "ipython",
    "version": 3
   },
   "file_extension": ".py",
   "mimetype": "text/x-python",
   "name": "python",
   "nbconvert_exporter": "python",
   "pygments_lexer": "ipython3",
   "version": "3.13.7"
  }
 },
 "nbformat": 4,
 "nbformat_minor": 5
}
